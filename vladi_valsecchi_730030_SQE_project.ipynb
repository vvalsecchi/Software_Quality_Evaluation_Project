{
  "nbformat": 4,
  "nbformat_minor": 0,
  "metadata": {
    "colab": {
      "name": "vladi_valsecchi_730030_SQE_project.ipynb",
      "provenance": [],
      "collapsed_sections": [],
      "toc_visible": true,
      "authorship_tag": "ABX9TyM1nEB19KmGCNEVpR2rJPWt",
      "include_colab_link": true
    },
    "kernelspec": {
      "name": "python3",
      "display_name": "Python 3"
    },
    "language_info": {
      "name": "python"
    }
  },
  "cells": [
    {
      "cell_type": "markdown",
      "metadata": {
        "id": "view-in-github",
        "colab_type": "text"
      },
      "source": [
        "<a href=\"https://colab.research.google.com/github/vvalsecchi/Software_Quality_Evaluation_Project/blob/main/vladi_valsecchi_730030_SQE_project.ipynb\" target=\"_parent\"><img src=\"https://colab.research.google.com/assets/colab-badge.svg\" alt=\"Open In Colab\"/></a>"
      ]
    },
    {
      "cell_type": "markdown",
      "source": [
        "# Software Quality Evaluation Project\n",
        "* Vladi VALSECCHI 730030 "
      ],
      "metadata": {
        "id": "Ok5ul9jJNjC_"
      }
    },
    {
      "cell_type": "markdown",
      "source": [
        "##Imports"
      ],
      "metadata": {
        "id": "Q30JFeXG42R-"
      }
    },
    {
      "cell_type": "code",
      "metadata": {
        "id": "tDJh1FaUeKai"
      },
      "source": [
        "#import PANDAS\n",
        "import pandas as pd\n",
        "\n",
        "#import MATPLOTLIB\n",
        "import matplotlib.pyplot as plt\n",
        "\n",
        "#import SEABORN\n",
        "import seaborn as sns\n",
        "#import SKLEARN\n",
        "from sklearn.feature_selection import SelectKBest, chi2\n",
        "from sklearn.model_selection import train_test_split\n",
        "from sklearn.linear_model import LinearRegression, LogisticRegression\n",
        "import sklearn.metrics as metrics\n",
        "from sklearn.metrics import mean_squared_error, r2_score, roc_curve, roc_auc_score, auc, classification_report, confusion_matrix, accuracy_score\n",
        "\n",
        "#import NUMPY\n",
        "import numpy as np\n",
        "\n",
        "#import PLOTLY\n",
        "import plotly.express as px\n",
        "import plotly.graph_objs as go\n",
        "\n",
        "#import PROGRESSBAR\n",
        "import progressbar"
      ],
      "execution_count": 2,
      "outputs": []
    },
    {
      "cell_type": "markdown",
      "metadata": {
        "id": "kRJJweyytrnT"
      },
      "source": [
        "## Dataset URL"
      ]
    },
    {
      "cell_type": "code",
      "metadata": {
        "id": "S0BP0s24ePPe"
      },
      "source": [
        "url=\"https://raw.githubusercontent.com/vvalsecchi/Software_Quality_Evaluation_Project/main/ant-1.7.csv\""
      ],
      "execution_count": 3,
      "outputs": []
    },
    {
      "cell_type": "markdown",
      "metadata": {
        "id": "KowAScV4tuTu"
      },
      "source": [
        "## Functions"
      ]
    },
    {
      "cell_type": "markdown",
      "source": [
        "###Dataset loading functions"
      ],
      "metadata": {
        "id": "_ILJ6rI3g4m3"
      }
    },
    {
      "cell_type": "code",
      "source": [
        "#return a csv file in dataframe format\n",
        "def load_dataset(ds_link):\n",
        "  return pd.read_csv(ds_link)#load dataset"
      ],
      "metadata": {
        "id": "4mHhu_A9hXlP"
      },
      "execution_count": 4,
      "outputs": []
    },
    {
      "cell_type": "code",
      "source": [
        "#check null values of the dataframe\n",
        "def check_null_df(df):\n",
        "    print(df.isnull().sum())#see if there are any missing values"
      ],
      "metadata": {
        "id": "XT70GeiohigC"
      },
      "execution_count": 5,
      "outputs": []
    },
    {
      "cell_type": "markdown",
      "source": [
        "###Dataset description functions"
      ],
      "metadata": {
        "id": "D68kxcSwg8AE"
      }
    },
    {
      "cell_type": "code",
      "source": [
        "#print shape and columns of a dataframe\n",
        "def df_structure(df):\n",
        "    print(\"shape: \",df.shape)\n",
        "    print(\"columns: \",df.columns)"
      ],
      "metadata": {
        "id": "JVV2MGYWhYDu"
      },
      "execution_count": 6,
      "outputs": []
    },
    {
      "cell_type": "markdown",
      "source": [
        "###Feature selection functions"
      ],
      "metadata": {
        "id": "QW0GjxtHg7-k"
      }
    },
    {
      "cell_type": "code",
      "source": [
        "#dataframe correlation matrix\n",
        "def correlation_matrix(df,tit):\n",
        "    corr = df[df.columns].corr()\n",
        "    f, ax = plt.subplots(figsize=(15, 10))\n",
        "    ax.set_title(f'{tit}'+' Correlation Matrix')\n",
        "    ax=sns.heatmap(corr, cmap=\"YlGnBu\", annot = True)"
      ],
      "metadata": {
        "id": "FGNb1nDXhYov"
      },
      "execution_count": 7,
      "outputs": []
    },
    {
      "cell_type": "code",
      "source": [
        "#return kbest features list\n",
        "def k_best_features(df):\n",
        "    X=df.iloc[:,3:21].values\n",
        "    y=df.iloc[:, 23].values\n",
        "    k_best_features=SelectKBest(chi2,k=3)\n",
        "    k_best_features=k_best_features.fit(X,y)\n",
        "    chi2_scores =  pd.DataFrame(list(zip(df.columns[3:21], k_best_features.scores_, k_best_features.pvalues_)), columns=['ftr', 'score', 'pval'])\n",
        "    print(chi2_scores)\n",
        "    k_features = np.asarray(df.iloc[:, 3:21].columns)[k_best_features.get_support()]\n",
        "    print()\n",
        "    print(\"K best features: \",k_features)\n",
        "    plt.figure(figsize=(12, 10))\n",
        "    g = sns.barplot(x=chi2_scores[\"ftr\"], y= chi2_scores[\"score\"], color=\"magenta\")\n",
        "    for p in g.patches:\n",
        "      g.annotate(format(p.get_height(), '.1f'), \n",
        "                      (p.get_x() + p.get_width() / 2., p.get_height()), \n",
        "                      ha = 'center', va = 'center', \n",
        "                      xytext = (0, 9), \n",
        "                      textcoords = 'offset points')\n",
        "    plt.title(\"Results\")\n",
        "    plt.xlabel(\"Feature\", size=14)\n",
        "    plt.ylabel(\"Score\", size=14)\n",
        "    return k_features"
      ],
      "metadata": {
        "id": "3LktKu2ih-Ht"
      },
      "execution_count": 8,
      "outputs": []
    },
    {
      "cell_type": "code",
      "source": [
        "#return r2 value of selected feature\n",
        "def test_r2(df, feature):\n",
        "  print(\"Test R squared error of feature \",feature,\" with fixed random state\")\n",
        "  X=df[[feature]]\n",
        "  y=df[[\"bug\"]]\n",
        "  X_train, X_test, y_train, y_test = train_test_split(X, y, test_size = 0.3, random_state = 42)\n",
        "  lm = LinearRegression()\n",
        "  lm.fit(X_train, y_train)\n",
        "  prediction = lm.predict(X_test)\n",
        "  print('R squared error', r2_score(y_test, prediction))"
      ],
      "metadata": {
        "id": "rqFkq1dbh-Es"
      },
      "execution_count": 9,
      "outputs": []
    },
    {
      "cell_type": "code",
      "source": [
        "#return df with only selected features\n",
        "def create_df_selected(df,f1,f2,f3):\n",
        "  return df[[f1,f2,f3,\"bug\"]]#keep only selected columns"
      ],
      "metadata": {
        "id": "WC_nDH-fh96x"
      },
      "execution_count": 10,
      "outputs": []
    },
    {
      "cell_type": "markdown",
      "source": [
        "###Data visualization functions"
      ],
      "metadata": {
        "id": "Te56XC4MhqdV"
      }
    },
    {
      "cell_type": "code",
      "source": [
        "#plot pairplot of a dataframe\n",
        "def pairplot(df):\n",
        "    sns.pairplot(df)"
      ],
      "metadata": {
        "id": "225MzOzyhsMp"
      },
      "execution_count": 11,
      "outputs": []
    },
    {
      "cell_type": "code",
      "source": [
        "#return df with the added column is_bugged\n",
        "def add_is_bugged(df):\n",
        "  df_dummy=df.copy()\n",
        "  df_dummy[\"is_bugged\"]=0\n",
        "  notBugged = yesBugged = 0\n",
        "  for x in range(df_dummy.shape[0]):\n",
        "      if df_dummy[\"bug\"].iloc[x] == 0:\n",
        "          df_dummy[\"is_bugged\"].iloc[x] = 0\n",
        "      else:\n",
        "          df_dummy[\"is_bugged\"].iloc[x] =  1\n",
        "  return df_dummy"
      ],
      "metadata": {
        "id": "2qssVUSdirQE"
      },
      "execution_count": 12,
      "outputs": []
    },
    {
      "cell_type": "code",
      "source": [
        "#plot interactive pieplot\n",
        "def interactive_pie(df):\n",
        "  dummy=df.is_bugged.value_counts().to_frame()\n",
        "  dummy['num']=dummy.index\n",
        "  fig = px.pie(dummy, values='is_bugged', names='num', title='Bugged and not bugged elements')\n",
        "  fig.show(render=\"png\")"
      ],
      "metadata": {
        "id": "5ozjzWvoPjSE"
      },
      "execution_count": 57,
      "outputs": []
    },
    {
      "cell_type": "code",
      "source": [
        "#plot interactive pieplot2\n",
        "def interactive_pie_2(df):\n",
        "  dummy=df.bug.value_counts().to_frame()\n",
        "  dummy['num']=dummy.index\n",
        "  fig = px.pie(dummy, values='bug', names='num', title='Bug values')\n",
        "  fig.show()"
      ],
      "metadata": {
        "id": "OEXm6xQ3PjHI"
      },
      "execution_count": 13,
      "outputs": []
    },
    {
      "cell_type": "code",
      "source": [
        "#plot countplot of selected feature\n",
        "def countplot_feature(df,feature):\n",
        "    print(\"Countplot of \",feature,\" feature\")\n",
        "    sns.countplot(x=df[feature], data = df)"
      ],
      "metadata": {
        "id": "6XQ2Nr_8ix1q"
      },
      "execution_count": 14,
      "outputs": []
    },
    {
      "cell_type": "code",
      "source": [
        "#plot histplot of selected feature\n",
        "def histplot_feature(df, feature, color):\n",
        "  print(\"Histplot of \",feature,\" feature\")\n",
        "  df[feature].plot(kind=\"hist\", color=color)"
      ],
      "metadata": {
        "id": "76IY5ofVixzz"
      },
      "execution_count": 15,
      "outputs": []
    },
    {
      "cell_type": "code",
      "source": [
        "#plot boxplot of selected feature\n",
        "def boxplot_feature(df ,feature):\n",
        "    tit=\"Distribution of \" + feature  \n",
        "    fig = go.Figure()\n",
        "    fig.add_trace(go.Box(y=df[feature], name=\"\"))\n",
        "    fig.update_layout(title=tit ,yaxis_title=feature,xaxis_title=\"Distribution of \" + feature)\n",
        "    fig.show()"
      ],
      "metadata": {
        "id": "WtPWnq9jixyL"
      },
      "execution_count": 16,
      "outputs": []
    },
    {
      "cell_type": "code",
      "source": [
        "#plot scatterplot of feature x and bug\n",
        "def scatter_ind_bug(df,feature_x):\n",
        "    fig = px.scatter(df, x=feature_x, y=\"bug\", color=\"bug\", hover_data=['bug', feature_x],title=\"'\"+feature_x+\"' and 'bug':\")\n",
        "    fig.show() "
      ],
      "metadata": {
        "id": "89vLDJKRixu-"
      },
      "execution_count": 17,
      "outputs": []
    },
    {
      "cell_type": "markdown",
      "source": [
        "###Descriptive statistics functions"
      ],
      "metadata": {
        "id": "G78eDBIGg77b"
      }
    },
    {
      "cell_type": "code",
      "source": [
        "#create df with only records with bugs\n",
        "def create_df_bug(df):\n",
        "  df_bug=df.copy()#copy dataframe\n",
        "  df_bug = df_bug.drop(df_bug[df_bug[\"is_bugged\"]==0].index)\n",
        "  df_bug = df_bug[[\"rfc\", \"loc\", \"wmc\", \"bug\"]]#keep only selected columns\n",
        "  return df_bug"
      ],
      "metadata": {
        "id": "6kA5GR0-hZM3"
      },
      "execution_count": 18,
      "outputs": []
    },
    {
      "cell_type": "code",
      "source": [
        "#create df with only records without bugs\n",
        "def create_df_no_bug(df):\n",
        "  df__no_bug=df.copy()#copy dataframe\n",
        "  df__no_bug = df__no_bug.drop(df__no_bug[df__no_bug[\"is_bugged\"]==1].index)\n",
        "  df__no_bug = df__no_bug[[\"rfc\", \"loc\", \"wmc\", \"bug\"]]#keep only selected columns\n",
        "  return df__no_bug"
      ],
      "metadata": {
        "id": "Canrcl5gj4-O"
      },
      "execution_count": 19,
      "outputs": []
    },
    {
      "cell_type": "code",
      "source": [
        "#print the number of bugged and not bugged elements in the df\n",
        "def count_bugged_and_not(df):\n",
        "  a=df['is_bugged'].value_counts()\n",
        "  print(\"Elements without bugs: \",a[0])\n",
        "  print(\"Elements with bugs: \",a[1])"
      ],
      "metadata": {
        "id": "4wGQDBPKj47g"
      },
      "execution_count": 20,
      "outputs": []
    },
    {
      "cell_type": "code",
      "source": [
        "#print min, max, mean and standard deviation of a selected feature\n",
        "def min_max_mean_dev(df, feature):\n",
        "  print(\"The minimum number of \",feature,\": \", df[feature].min())\n",
        "  print(\"The maximum number of \",feature,\": \", df[feature].max())\n",
        "  print(\"The average number of \",feature,\": \", df[feature].mean())\n",
        "  print(\"The value of the standard deviation of the feature \",feature,\": \", df[feature].std())\n",
        "  print(\"\")"
      ],
      "metadata": {
        "id": "TzX-9uenj45V"
      },
      "execution_count": 21,
      "outputs": []
    },
    {
      "cell_type": "code",
      "source": [
        "#print the number of bugs and how many record have that number of bugs\n",
        "def show_bug_numbers(df):\n",
        "  print(\"# of bugs, total records\")\n",
        "  print(df[\"bug\"].value_counts())"
      ],
      "metadata": {
        "id": "xQPKA4QCfa1c"
      },
      "execution_count": 22,
      "outputs": []
    },
    {
      "cell_type": "markdown",
      "source": [
        "###Linear Regression functions\n",
        "\n"
      ],
      "metadata": {
        "id": "nDG3MaOPg756"
      }
    },
    {
      "cell_type": "code",
      "source": [
        "#print first five elements of a list\n",
        "def show_top5(rs_list):\n",
        "  for i in range(5):\n",
        "    print(rs_list[i])"
      ],
      "metadata": {
        "id": "nvDHTr39hZoY"
      },
      "execution_count": 23,
      "outputs": []
    },
    {
      "cell_type": "code",
      "source": [
        "#get 5 random states based on R2 value\n",
        "def find_top5_random_states(df,feature):\n",
        "  X = df[[feature]]\n",
        "  y = df['bug']\n",
        "  list1=[]\n",
        "  bar = progressbar.ProgressBar()\n",
        "  for cyc in bar(range(60000)):\n",
        "    list2=[]\n",
        "    X_train, X_test, y_train, y_test = train_test_split(X, y, test_size = 0.3, random_state = cyc)\n",
        "    lm = LinearRegression()\n",
        "    lm.fit(X_train, y_train)\n",
        "    prediction = lm.predict(X_test)\n",
        "    list2.append(r2_score(y_test, prediction))\n",
        "    list2.append(metrics.mean_squared_error(y_test, prediction))\n",
        "    list2.append(cyc)\n",
        "    list1.append(list2)\n",
        "  list1.sort(reverse=True)\n",
        "  print(\"\\nTop 5 random states for \",feature,\" by R2 score:\")\n",
        "  print(\"[R2 value, MSE value, random state]\\n\")\n",
        "  show_top5(list1)"
      ],
      "metadata": {
        "id": "H3JjbOB8k-jz"
      },
      "execution_count": 24,
      "outputs": []
    },
    {
      "cell_type": "code",
      "source": [
        "#plot regression plots\n",
        "def plot_reg(X,y,y_p):\n",
        "    plt.scatter(X, y, color = 'blue')\n",
        "    plt.plot(X, y_p, color = 'red')\n",
        "    plt.title('Prediction over independent variable')\n",
        "    plt.xlabel('independent')\n",
        "    plt.ylabel('bug')\n",
        "    plt.show()"
      ],
      "metadata": {
        "id": "kMkkX9Jck-iQ"
      },
      "execution_count": 25,
      "outputs": []
    },
    {
      "cell_type": "code",
      "source": [
        "#given dataframe, feature and random state computes the linear regression\n",
        "def linear_regression(df,fs,RS):\n",
        "  X = df[[fs]]\n",
        "  y = df['bug']\n",
        "  X_train, X_test, y_train, y_test = train_test_split(X, y, test_size = 0.3, random_state = RS)\n",
        "  lm = LinearRegression()\n",
        "  lm.fit(X_train, y_train)\n",
        "  prediction = lm.predict(X_test)\n",
        "  plt.scatter(y_test, prediction)###y test vs prediction\n",
        "  df1 = pd.DataFrame({'Actual': y_test, 'Predicted':prediction})\n",
        "  df2 = df1.head(10)\n",
        "  df2\n",
        "  df2.plot(kind = 'bar')\n",
        "  print('MAE', metrics.mean_absolute_error(y_test, prediction))\n",
        "  print('MSE', metrics.mean_squared_error(y_test, prediction))\n",
        "  print('RMSE', np.sqrt(metrics.mean_squared_error(y_test, prediction)))\n",
        "  print('R squared error', r2_score(y_test, prediction))\n",
        "  plt.show()\n",
        "  plot_reg(X_test,y_test,prediction)"
      ],
      "metadata": {
        "id": "sqpAKGp2k-fX"
      },
      "execution_count": 26,
      "outputs": []
    },
    {
      "cell_type": "code",
      "source": [
        "#return dataframe with bug and a independent feature\n",
        "def create_df_ind_dep(df,ind_feature):\n",
        "    dff=df[[ind_feature,\"bug\"]]\n",
        "    return dff"
      ],
      "metadata": {
        "id": "SWLjgfXLlcLx"
      },
      "execution_count": 27,
      "outputs": []
    },
    {
      "cell_type": "code",
      "source": [
        "#return dataframe with outlier removed via quantile method\n",
        "def outlier_remover(df,feature):\n",
        "  q_low = df_selected[feature].quantile(0.01)\n",
        "  q_hi  = df_selected[feature].quantile(0.99)\n",
        "  df_filtered = df[(df[feature] < q_hi) & (df[feature] > q_low)]\n",
        "  return df_filtered"
      ],
      "metadata": {
        "id": "cigK7Nn0lcKE"
      },
      "execution_count": 28,
      "outputs": []
    },
    {
      "cell_type": "code",
      "source": [
        "#plot a double interactive boxplot of a feature in 2 different dataframes\n",
        "def double_boxplot(df1 ,df2, feature):\n",
        "    tit=\"Distribution of \"+feature+\" before and after outlier removal\"\n",
        "    fig = go.Figure()\n",
        "    fig.add_trace(go.Box(y=df1[feature], name=\"before\"))\n",
        "    fig.add_trace(go.Box(y=df2[feature], name=\"after\"))\n",
        "    fig.update_layout(title=tit, yaxis_title=feature ,xaxis_title=\"\")\n",
        "    fig.show()"
      ],
      "metadata": {
        "id": "5yi55jAylcHj"
      },
      "execution_count": 29,
      "outputs": []
    },
    {
      "cell_type": "code",
      "source": [
        "#return X_test and prediction\n",
        "def get_reg_xp(df,feature,rs):\n",
        "  X = df[[feature]]\n",
        "  y = df['bug']\n",
        "  X_train, X_test, y_train, y_test = train_test_split(X, y, test_size = 0.3, random_state = rs)\n",
        "  lm = LinearRegression()\n",
        "  lm.fit(X_train, y_train)\n",
        "  prediction = lm.predict(X_test)\n",
        "  return X_test, prediction"
      ],
      "metadata": {
        "id": "g_AT9rhelcEy"
      },
      "execution_count": 30,
      "outputs": []
    },
    {
      "cell_type": "code",
      "source": [
        "#plot an overlapped graph to compare the linear regression before and after outlier removal\n",
        "def plot_reg_overlap(df_o, df_f, feature, rs_o, rs_f):#df_o is with outliers, df_f is filtered\n",
        "  X1 = df_o[feature]\n",
        "  X2 = df_f[feature]\n",
        "  Y1 = df_o[\"bug\"]\n",
        "  Y2 = df_f[\"bug\"]\n",
        "  X_o,pred_o=get_reg_xp(df_o,feature,rs_o)\n",
        "  X_f,pred_f=get_reg_xp(df_f,feature,rs_f)\n",
        "  f = plt.figure()\n",
        "  f.set_figwidth(9)\n",
        "  f.set_figheight(9)\n",
        "  plt.scatter(X1,Y1,color='red')\n",
        "  plt.scatter(X2,Y2,color='blue')\n",
        "  plt.plot(X_o,pred_o,  color=\"green\", linewidth=4)\n",
        "  plt.plot(X_f,pred_f, color=\"magenta\",linewidth=4)\n",
        "  plt.xlabel(\"bug\")\n",
        "  plt.ylabel(feature)\n",
        "  plt.show()"
      ],
      "metadata": {
        "id": "YSuZJxZcl55r"
      },
      "execution_count": 31,
      "outputs": []
    },
    {
      "cell_type": "markdown",
      "source": [
        "###Correlation functions"
      ],
      "metadata": {
        "id": "iLsD0XwRg72f"
      }
    },
    {
      "cell_type": "code",
      "source": [
        "#return array with correlation of a given feature and bug\n",
        "def correlation(df,feature):\n",
        "    r_bug = df.bug.corr(df[feature])#R correlation between bug and given feature\n",
        "    rho_bug = df.bug.corr(df[feature], method='spearman')#RHO correlation between bug and given feature\n",
        "    tau_bug = df.bug.corr(df[feature], method='kendall')#TAU correlation between bug and given feature\n",
        "    print(\"Pearson's r: \",r_bug)\n",
        "    print(\"Spearman's rho: \",rho_bug)\n",
        "    print(\"Kendall's tau: \",tau_bug)\n",
        "    data=[[\"Pearson\",r_bug], [ \"Spearman\",rho_bug],[\"Kendall\",tau_bug]]\n",
        "    return data"
      ],
      "metadata": {
        "id": "byhdq9r3haHA"
      },
      "execution_count": 32,
      "outputs": []
    },
    {
      "cell_type": "code",
      "source": [
        "#return array with correlation of a given feature and bug\n",
        "def correlation_filtered(df,feature):\n",
        "    r_bug = df.bug.corr(df[feature])#R correlation between bug and given feature\n",
        "    rho_bug = df.bug.corr(df[feature], method='spearman')#RHO correlation between bug and given feature\n",
        "    tau_bug = df.bug.corr(df[feature], method='kendall')#TAU correlation between bug and given feature\n",
        "    print(\"Pearson's r: \",r_bug)\n",
        "    print(\"Spearman's rho: \",rho_bug)\n",
        "    print(\"Kendall's tau: \",tau_bug)\n",
        "    data=[[\"Pea_fil\",r_bug], [ \"Spe_fil\",rho_bug],[\"Ken_fil\",tau_bug]]\n",
        "    return data"
      ],
      "metadata": {
        "id": "AD1iakuHgWao"
      },
      "execution_count": 33,
      "outputs": []
    },
    {
      "cell_type": "code",
      "source": [
        "#plot the correlation results given an array\n",
        "def correlation_plot(data,tit):\n",
        "    if tit==\"pos\":\n",
        "        ali='bottom'\n",
        "    else:\n",
        "        ali='top'\n",
        "    colors=[\"red\", \"lime\", \"cyan\"]\n",
        "    df = pd.DataFrame(data, columns=['Method', 'Value'])\n",
        "    plt.bar(df[\"Method\"],df[\"Value\"], align='center',color=colors, edgecolor='black',linewidth=0.5)\n",
        "    plt.xticks(df[\"Method\"])\n",
        "    plt.ylabel(\"Value\")\n",
        "    plt.xlabel(\"Methods\")\n",
        "    plt.title(tit)\n",
        "    for index,data in enumerate(df[\"Value\"]):\n",
        "        plt.text(x=index , y =data , s=f\"{data}\"[:8] , fontdict=dict(fontsize=11,horizontalalignment='center',\n",
        "        verticalalignment=ali))"
      ],
      "metadata": {
        "id": "R9y7rXqMmFPa"
      },
      "execution_count": 34,
      "outputs": []
    },
    {
      "cell_type": "code",
      "source": [
        "#merge two lists\n",
        "def merge_lists(l1,l2):\n",
        "  return l1+l2"
      ],
      "metadata": {
        "id": "HGEPXLiNmFNq"
      },
      "execution_count": 35,
      "outputs": []
    },
    {
      "cell_type": "markdown",
      "source": [
        "###Logistic Regression functions"
      ],
      "metadata": {
        "id": "yPXZGqcBg7xu"
      }
    },
    {
      "cell_type": "code",
      "metadata": {
        "id": "xu-TuMk2enjJ"
      },
      "source": [
        "#train test split logistic regression\n",
        "def feature_selection_lr(df, rs):\n",
        "    label=\"is_bugged\"\n",
        "    ignore_cols=[label,\"bug\"]\n",
        "    features=[c for c in df.columns if c not in ignore_cols]\n",
        "    X_train_LR, X_test_LR, y_train_LR, y_test_LR = train_test_split(df[features], df[label], test_size = 0.30,random_state=rs)\n",
        "    return X_train_LR, X_test_LR, y_train_LR, y_test_LR"
      ],
      "execution_count": 36,
      "outputs": []
    },
    {
      "cell_type": "code",
      "metadata": {
        "id": "ael3AbsLj-Ld"
      },
      "source": [
        "#train logistic regression model\n",
        "def lrm_train(X_train, y_train):\n",
        "    lrm = LogisticRegression(solver='liblinear')#define logistic regressor\n",
        "    lrm.fit(X_train, y_train)#fit model\n",
        "    return lrm"
      ],
      "execution_count": 37,
      "outputs": []
    },
    {
      "cell_type": "code",
      "metadata": {
        "id": "SS1U3aJaj_cq"
      },
      "source": [
        "#get prediction of a trained logistic regression model\n",
        "def lrm_test(lr,X_test):\n",
        "  predictions = lr.predict(X_test)#make prediction with test set\n",
        "  return predictions"
      ],
      "execution_count": 38,
      "outputs": []
    },
    {
      "cell_type": "code",
      "metadata": {
        "id": "q_guF0vqj_aS"
      },
      "source": [
        "#print confusion matrix, classification report and accuracy value\n",
        "def conf_class_rep(y_test, predictions):\n",
        "    print(confusion_matrix(y_test,predictions))\n",
        "    print(classification_report(y_test,predictions))\n",
        "    accuracy = accuracy_score(y_test, predictions)*100\n",
        "    print(\"accuracy is\", str(round(accuracy, 2)) + ' %.')"
      ],
      "execution_count": 39,
      "outputs": []
    },
    {
      "cell_type": "code",
      "metadata": {
        "id": "TWn7P8gsj_X3"
      },
      "source": [
        "#executes the full logistic regression procedure\n",
        "def full_logistic_regression(df,rs):\n",
        "  X_train_LR, X_test_LR, y_train_LR, y_test_LR=feature_selection_lr(df_selected,rs)\n",
        "  lrm=lrm_train(X_train_LR, y_train_LR)\n",
        "  predictions_lrm=lrm_test(lrm,X_test_LR)\n",
        "  conf_class_rep(y_test_LR, predictions_lrm)"
      ],
      "execution_count": 40,
      "outputs": []
    },
    {
      "cell_type": "code",
      "metadata": {
        "id": "2lwRJUL_j_TT"
      },
      "source": [
        "#get 5 random states based on accuracy value\n",
        "def find_top5_random_states_LR(df):\n",
        "  list1=[]\n",
        "  bar = progressbar.ProgressBar()\n",
        "  for cyc in bar(range(60000)):\n",
        "    list2=[]\n",
        "    X_train, X_test, y_train, y_test=feature_selection_lr(df,cyc)\n",
        "    lrm=lrm_train(X_train,y_train)\n",
        "    predictions = lrm_test(lrm,X_test)\n",
        "    accuracy = accuracy_score(y_test, predictions)*100\n",
        "    fixed_accuracy=round(accuracy, 5)\n",
        "    list2.append(fixed_accuracy)\n",
        "    list2.append(cyc)\n",
        "    list1.append(list2)\n",
        "  list1.sort(reverse=True)\n",
        "  print(\"\\nTop 5 random states for Logistic Regression by accuracy score:\")\n",
        "  print(\"[Accuracy, random state]\\n\")\n",
        "  show_top5(list1)"
      ],
      "execution_count": 41,
      "outputs": []
    },
    {
      "cell_type": "markdown",
      "metadata": {
        "id": "gdQ52sVNuJSZ"
      },
      "source": [
        "## Import dataset"
      ]
    },
    {
      "cell_type": "code",
      "metadata": {
        "id": "SlIolt1rj_JW",
        "colab": {
          "base_uri": "https://localhost:8080/",
          "height": 299
        },
        "outputId": "2e140f22-16a9-44f1-e3f9-323cbbf1e227"
      },
      "source": [
        "df=load_dataset(url)\n",
        "df_structure(df)\n",
        "df.head(3)"
      ],
      "execution_count": 42,
      "outputs": [
        {
          "output_type": "stream",
          "name": "stdout",
          "text": [
            "shape:  (745, 24)\n",
            "columns:  Index(['name', 'version', 'name.1', 'wmc', 'dit', 'noc', 'cbo', 'rfc', 'lcom',\n",
            "       'ca', 'ce', 'npm', 'lcom3', 'loc', 'dam', 'moa', 'mfa', 'cam', 'ic',\n",
            "       'cbm', 'amc', 'max_cc', 'avg_cc', 'bug'],\n",
            "      dtype='object')\n"
          ]
        },
        {
          "output_type": "execute_result",
          "data": {
            "text/html": [
              "\n",
              "  <div id=\"df-99d47376-2a66-49d5-9a41-85fd696b7d7f\">\n",
              "    <div class=\"colab-df-container\">\n",
              "      <div>\n",
              "<style scoped>\n",
              "    .dataframe tbody tr th:only-of-type {\n",
              "        vertical-align: middle;\n",
              "    }\n",
              "\n",
              "    .dataframe tbody tr th {\n",
              "        vertical-align: top;\n",
              "    }\n",
              "\n",
              "    .dataframe thead th {\n",
              "        text-align: right;\n",
              "    }\n",
              "</style>\n",
              "<table border=\"1\" class=\"dataframe\">\n",
              "  <thead>\n",
              "    <tr style=\"text-align: right;\">\n",
              "      <th></th>\n",
              "      <th>name</th>\n",
              "      <th>version</th>\n",
              "      <th>name.1</th>\n",
              "      <th>wmc</th>\n",
              "      <th>dit</th>\n",
              "      <th>noc</th>\n",
              "      <th>cbo</th>\n",
              "      <th>rfc</th>\n",
              "      <th>lcom</th>\n",
              "      <th>ca</th>\n",
              "      <th>ce</th>\n",
              "      <th>npm</th>\n",
              "      <th>lcom3</th>\n",
              "      <th>loc</th>\n",
              "      <th>dam</th>\n",
              "      <th>moa</th>\n",
              "      <th>mfa</th>\n",
              "      <th>cam</th>\n",
              "      <th>ic</th>\n",
              "      <th>cbm</th>\n",
              "      <th>amc</th>\n",
              "      <th>max_cc</th>\n",
              "      <th>avg_cc</th>\n",
              "      <th>bug</th>\n",
              "    </tr>\n",
              "  </thead>\n",
              "  <tbody>\n",
              "    <tr>\n",
              "      <th>0</th>\n",
              "      <td>ant</td>\n",
              "      <td>1.7</td>\n",
              "      <td>org.apache.tools.ant.taskdefs.rmic.RmicAdapter...</td>\n",
              "      <td>3</td>\n",
              "      <td>1</td>\n",
              "      <td>0</td>\n",
              "      <td>10</td>\n",
              "      <td>18</td>\n",
              "      <td>3</td>\n",
              "      <td>1</td>\n",
              "      <td>9</td>\n",
              "      <td>1</td>\n",
              "      <td>1.100</td>\n",
              "      <td>106</td>\n",
              "      <td>0.0</td>\n",
              "      <td>0</td>\n",
              "      <td>0.0</td>\n",
              "      <td>0.444444</td>\n",
              "      <td>0</td>\n",
              "      <td>0</td>\n",
              "      <td>32.666667</td>\n",
              "      <td>1</td>\n",
              "      <td>0.6667</td>\n",
              "      <td>0</td>\n",
              "    </tr>\n",
              "    <tr>\n",
              "      <th>1</th>\n",
              "      <td>ant</td>\n",
              "      <td>1.7</td>\n",
              "      <td>org.apache.tools.ant.taskdefs.optional.perforc...</td>\n",
              "      <td>5</td>\n",
              "      <td>2</td>\n",
              "      <td>0</td>\n",
              "      <td>4</td>\n",
              "      <td>13</td>\n",
              "      <td>0</td>\n",
              "      <td>1</td>\n",
              "      <td>4</td>\n",
              "      <td>4</td>\n",
              "      <td>0.625</td>\n",
              "      <td>76</td>\n",
              "      <td>1.0</td>\n",
              "      <td>1</td>\n",
              "      <td>0.7</td>\n",
              "      <td>0.500000</td>\n",
              "      <td>0</td>\n",
              "      <td>0</td>\n",
              "      <td>13.400000</td>\n",
              "      <td>1</td>\n",
              "      <td>0.6000</td>\n",
              "      <td>0</td>\n",
              "    </tr>\n",
              "    <tr>\n",
              "      <th>2</th>\n",
              "      <td>ant</td>\n",
              "      <td>1.7</td>\n",
              "      <td>org.apache.tools.ant.taskdefs.optional.junit.O...</td>\n",
              "      <td>1</td>\n",
              "      <td>2</td>\n",
              "      <td>0</td>\n",
              "      <td>1</td>\n",
              "      <td>3</td>\n",
              "      <td>0</td>\n",
              "      <td>0</td>\n",
              "      <td>1</td>\n",
              "      <td>1</td>\n",
              "      <td>2.000</td>\n",
              "      <td>7</td>\n",
              "      <td>0.0</td>\n",
              "      <td>0</td>\n",
              "      <td>1.0</td>\n",
              "      <td>1.000000</td>\n",
              "      <td>0</td>\n",
              "      <td>0</td>\n",
              "      <td>6.000000</td>\n",
              "      <td>0</td>\n",
              "      <td>0.0000</td>\n",
              "      <td>0</td>\n",
              "    </tr>\n",
              "  </tbody>\n",
              "</table>\n",
              "</div>\n",
              "      <button class=\"colab-df-convert\" onclick=\"convertToInteractive('df-99d47376-2a66-49d5-9a41-85fd696b7d7f')\"\n",
              "              title=\"Convert this dataframe to an interactive table.\"\n",
              "              style=\"display:none;\">\n",
              "        \n",
              "  <svg xmlns=\"http://www.w3.org/2000/svg\" height=\"24px\"viewBox=\"0 0 24 24\"\n",
              "       width=\"24px\">\n",
              "    <path d=\"M0 0h24v24H0V0z\" fill=\"none\"/>\n",
              "    <path d=\"M18.56 5.44l.94 2.06.94-2.06 2.06-.94-2.06-.94-.94-2.06-.94 2.06-2.06.94zm-11 1L8.5 8.5l.94-2.06 2.06-.94-2.06-.94L8.5 2.5l-.94 2.06-2.06.94zm10 10l.94 2.06.94-2.06 2.06-.94-2.06-.94-.94-2.06-.94 2.06-2.06.94z\"/><path d=\"M17.41 7.96l-1.37-1.37c-.4-.4-.92-.59-1.43-.59-.52 0-1.04.2-1.43.59L10.3 9.45l-7.72 7.72c-.78.78-.78 2.05 0 2.83L4 21.41c.39.39.9.59 1.41.59.51 0 1.02-.2 1.41-.59l7.78-7.78 2.81-2.81c.8-.78.8-2.07 0-2.86zM5.41 20L4 18.59l7.72-7.72 1.47 1.35L5.41 20z\"/>\n",
              "  </svg>\n",
              "      </button>\n",
              "      \n",
              "  <style>\n",
              "    .colab-df-container {\n",
              "      display:flex;\n",
              "      flex-wrap:wrap;\n",
              "      gap: 12px;\n",
              "    }\n",
              "\n",
              "    .colab-df-convert {\n",
              "      background-color: #E8F0FE;\n",
              "      border: none;\n",
              "      border-radius: 50%;\n",
              "      cursor: pointer;\n",
              "      display: none;\n",
              "      fill: #1967D2;\n",
              "      height: 32px;\n",
              "      padding: 0 0 0 0;\n",
              "      width: 32px;\n",
              "    }\n",
              "\n",
              "    .colab-df-convert:hover {\n",
              "      background-color: #E2EBFA;\n",
              "      box-shadow: 0px 1px 2px rgba(60, 64, 67, 0.3), 0px 1px 3px 1px rgba(60, 64, 67, 0.15);\n",
              "      fill: #174EA6;\n",
              "    }\n",
              "\n",
              "    [theme=dark] .colab-df-convert {\n",
              "      background-color: #3B4455;\n",
              "      fill: #D2E3FC;\n",
              "    }\n",
              "\n",
              "    [theme=dark] .colab-df-convert:hover {\n",
              "      background-color: #434B5C;\n",
              "      box-shadow: 0px 1px 3px 1px rgba(0, 0, 0, 0.15);\n",
              "      filter: drop-shadow(0px 1px 2px rgba(0, 0, 0, 0.3));\n",
              "      fill: #FFFFFF;\n",
              "    }\n",
              "  </style>\n",
              "\n",
              "      <script>\n",
              "        const buttonEl =\n",
              "          document.querySelector('#df-99d47376-2a66-49d5-9a41-85fd696b7d7f button.colab-df-convert');\n",
              "        buttonEl.style.display =\n",
              "          google.colab.kernel.accessAllowed ? 'block' : 'none';\n",
              "\n",
              "        async function convertToInteractive(key) {\n",
              "          const element = document.querySelector('#df-99d47376-2a66-49d5-9a41-85fd696b7d7f');\n",
              "          const dataTable =\n",
              "            await google.colab.kernel.invokeFunction('convertToInteractive',\n",
              "                                                     [key], {});\n",
              "          if (!dataTable) return;\n",
              "\n",
              "          const docLinkHtml = 'Like what you see? Visit the ' +\n",
              "            '<a target=\"_blank\" href=https://colab.research.google.com/notebooks/data_table.ipynb>data table notebook</a>'\n",
              "            + ' to learn more about interactive tables.';\n",
              "          element.innerHTML = '';\n",
              "          dataTable['output_type'] = 'display_data';\n",
              "          await google.colab.output.renderOutput(dataTable, element);\n",
              "          const docLink = document.createElement('div');\n",
              "          docLink.innerHTML = docLinkHtml;\n",
              "          element.appendChild(docLink);\n",
              "        }\n",
              "      </script>\n",
              "    </div>\n",
              "  </div>\n",
              "  "
            ],
            "text/plain": [
              "  name  version  ...  avg_cc  bug\n",
              "0  ant      1.7  ...  0.6667    0\n",
              "1  ant      1.7  ...  0.6000    0\n",
              "2  ant      1.7  ...  0.0000    0\n",
              "\n",
              "[3 rows x 24 columns]"
            ]
          },
          "metadata": {},
          "execution_count": 42
        }
      ]
    },
    {
      "cell_type": "markdown",
      "source": [
        "### Check null values"
      ],
      "metadata": {
        "id": "ZUHEGBiANNx9"
      }
    },
    {
      "cell_type": "code",
      "metadata": {
        "colab": {
          "base_uri": "https://localhost:8080/"
        },
        "id": "pz0ny83hHHjL",
        "outputId": "1fd04203-4ccf-4af0-db84-717d8382ee88"
      },
      "source": [
        "check_null_df(df)"
      ],
      "execution_count": 43,
      "outputs": [
        {
          "output_type": "stream",
          "name": "stdout",
          "text": [
            "name       0\n",
            "version    0\n",
            "name.1     0\n",
            "wmc        0\n",
            "dit        0\n",
            "noc        0\n",
            "cbo        0\n",
            "rfc        0\n",
            "lcom       0\n",
            "ca         0\n",
            "ce         0\n",
            "npm        0\n",
            "lcom3      0\n",
            "loc        0\n",
            "dam        0\n",
            "moa        0\n",
            "mfa        0\n",
            "cam        0\n",
            "ic         0\n",
            "cbm        0\n",
            "amc        0\n",
            "max_cc     0\n",
            "avg_cc     0\n",
            "bug        0\n",
            "dtype: int64\n"
          ]
        }
      ]
    },
    {
      "cell_type": "markdown",
      "metadata": {
        "id": "kVobWOlXuWeU"
      },
      "source": [
        "## Dataset description"
      ]
    },
    {
      "cell_type": "markdown",
      "source": [
        "This dataset contains 745 elements and their mesurements.\n",
        "\n",
        "The csv file contains 24 fields:\n",
        "\n",
        "* name: name of the source \n",
        "* version: version of the source \n",
        "* name.1: class name \n",
        "* wmc: weighted methods for class \n",
        "* dit: depth of inheritance tree noc: number of children \n",
        "* cbo: coupling between objects classes \n",
        "* rfc: response for a class \n",
        "* lcom: lack of cohesion in methods \n",
        "* ca: afferent couplings \n",
        "* ce: efferent couplings \n",
        "* npm: number of public methods \n",
        "* lcom3: loc: line of code \n",
        "* dam: data access metric \n",
        "* moa: measure of aggregation \n",
        "* mfa: measure of functional abstraction \n",
        "* cam: cohesion among methods of class \n",
        "* ic: inheritance coupling \n",
        "* cbm: coupling between methods \n",
        "* amc: average method complexity \n",
        "* cc: mcCabe’s cyclomatic complexity \n",
        "* max_cc: max cyclomatic complexity\n",
        "* avg_cc: average cyclomatic complexity\n",
        "* bug: # of bugs"
      ],
      "metadata": {
        "id": "6Nx2PDCnwBnq"
      }
    },
    {
      "cell_type": "code",
      "metadata": {
        "colab": {
          "base_uri": "https://localhost:8080/",
          "height": 364
        },
        "id": "gmfcrk-8HDyQ",
        "outputId": "ec6a3486-fdc2-4a81-f4b8-95700a460659"
      },
      "source": [
        "df.describe()"
      ],
      "execution_count": 44,
      "outputs": [
        {
          "output_type": "execute_result",
          "data": {
            "text/html": [
              "\n",
              "  <div id=\"df-d45c2c98-2bce-4fdc-93d4-ed690ec991ce\">\n",
              "    <div class=\"colab-df-container\">\n",
              "      <div>\n",
              "<style scoped>\n",
              "    .dataframe tbody tr th:only-of-type {\n",
              "        vertical-align: middle;\n",
              "    }\n",
              "\n",
              "    .dataframe tbody tr th {\n",
              "        vertical-align: top;\n",
              "    }\n",
              "\n",
              "    .dataframe thead th {\n",
              "        text-align: right;\n",
              "    }\n",
              "</style>\n",
              "<table border=\"1\" class=\"dataframe\">\n",
              "  <thead>\n",
              "    <tr style=\"text-align: right;\">\n",
              "      <th></th>\n",
              "      <th>version</th>\n",
              "      <th>wmc</th>\n",
              "      <th>dit</th>\n",
              "      <th>noc</th>\n",
              "      <th>cbo</th>\n",
              "      <th>rfc</th>\n",
              "      <th>lcom</th>\n",
              "      <th>ca</th>\n",
              "      <th>ce</th>\n",
              "      <th>npm</th>\n",
              "      <th>lcom3</th>\n",
              "      <th>loc</th>\n",
              "      <th>dam</th>\n",
              "      <th>moa</th>\n",
              "      <th>mfa</th>\n",
              "      <th>cam</th>\n",
              "      <th>ic</th>\n",
              "      <th>cbm</th>\n",
              "      <th>amc</th>\n",
              "      <th>max_cc</th>\n",
              "      <th>avg_cc</th>\n",
              "      <th>bug</th>\n",
              "    </tr>\n",
              "  </thead>\n",
              "  <tbody>\n",
              "    <tr>\n",
              "      <th>count</th>\n",
              "      <td>7.450000e+02</td>\n",
              "      <td>745.000000</td>\n",
              "      <td>745.000000</td>\n",
              "      <td>745.000000</td>\n",
              "      <td>745.000000</td>\n",
              "      <td>745.000000</td>\n",
              "      <td>745.000000</td>\n",
              "      <td>745.000000</td>\n",
              "      <td>745.000000</td>\n",
              "      <td>745.000000</td>\n",
              "      <td>745.000000</td>\n",
              "      <td>745.000000</td>\n",
              "      <td>745.000000</td>\n",
              "      <td>745.000000</td>\n",
              "      <td>745.000000</td>\n",
              "      <td>745.000000</td>\n",
              "      <td>745.000000</td>\n",
              "      <td>745.000000</td>\n",
              "      <td>745.000000</td>\n",
              "      <td>745.000000</td>\n",
              "      <td>745.000000</td>\n",
              "      <td>745.000000</td>\n",
              "    </tr>\n",
              "    <tr>\n",
              "      <th>mean</th>\n",
              "      <td>1.700000e+00</td>\n",
              "      <td>11.071141</td>\n",
              "      <td>2.522148</td>\n",
              "      <td>0.731544</td>\n",
              "      <td>11.046980</td>\n",
              "      <td>34.362416</td>\n",
              "      <td>89.147651</td>\n",
              "      <td>5.655034</td>\n",
              "      <td>5.746309</td>\n",
              "      <td>8.365101</td>\n",
              "      <td>1.013342</td>\n",
              "      <td>280.071141</td>\n",
              "      <td>0.644855</td>\n",
              "      <td>0.726174</td>\n",
              "      <td>0.509968</td>\n",
              "      <td>0.474685</td>\n",
              "      <td>0.720805</td>\n",
              "      <td>1.312752</td>\n",
              "      <td>23.640870</td>\n",
              "      <td>4.669799</td>\n",
              "      <td>1.366053</td>\n",
              "      <td>0.453691</td>\n",
              "    </tr>\n",
              "    <tr>\n",
              "      <th>std</th>\n",
              "      <td>2.377473e-14</td>\n",
              "      <td>11.975963</td>\n",
              "      <td>1.398869</td>\n",
              "      <td>4.800357</td>\n",
              "      <td>26.343149</td>\n",
              "      <td>36.024972</td>\n",
              "      <td>349.937555</td>\n",
              "      <td>25.814223</td>\n",
              "      <td>5.653176</td>\n",
              "      <td>9.331319</td>\n",
              "      <td>0.619015</td>\n",
              "      <td>411.872075</td>\n",
              "      <td>0.438138</td>\n",
              "      <td>1.426581</td>\n",
              "      <td>0.398696</td>\n",
              "      <td>0.259931</td>\n",
              "      <td>0.938948</td>\n",
              "      <td>2.332602</td>\n",
              "      <td>76.986079</td>\n",
              "      <td>6.276853</td>\n",
              "      <td>0.881739</td>\n",
              "      <td>1.138673</td>\n",
              "    </tr>\n",
              "    <tr>\n",
              "      <th>min</th>\n",
              "      <td>1.700000e+00</td>\n",
              "      <td>0.000000</td>\n",
              "      <td>1.000000</td>\n",
              "      <td>0.000000</td>\n",
              "      <td>0.000000</td>\n",
              "      <td>0.000000</td>\n",
              "      <td>0.000000</td>\n",
              "      <td>0.000000</td>\n",
              "      <td>0.000000</td>\n",
              "      <td>0.000000</td>\n",
              "      <td>0.000000</td>\n",
              "      <td>0.000000</td>\n",
              "      <td>0.000000</td>\n",
              "      <td>0.000000</td>\n",
              "      <td>0.000000</td>\n",
              "      <td>0.000000</td>\n",
              "      <td>0.000000</td>\n",
              "      <td>0.000000</td>\n",
              "      <td>0.000000</td>\n",
              "      <td>0.000000</td>\n",
              "      <td>0.000000</td>\n",
              "      <td>0.000000</td>\n",
              "    </tr>\n",
              "    <tr>\n",
              "      <th>25%</th>\n",
              "      <td>1.700000e+00</td>\n",
              "      <td>4.000000</td>\n",
              "      <td>1.000000</td>\n",
              "      <td>0.000000</td>\n",
              "      <td>4.000000</td>\n",
              "      <td>11.000000</td>\n",
              "      <td>0.000000</td>\n",
              "      <td>0.000000</td>\n",
              "      <td>2.000000</td>\n",
              "      <td>3.000000</td>\n",
              "      <td>0.666667</td>\n",
              "      <td>52.000000</td>\n",
              "      <td>0.000000</td>\n",
              "      <td>0.000000</td>\n",
              "      <td>0.000000</td>\n",
              "      <td>0.269841</td>\n",
              "      <td>0.000000</td>\n",
              "      <td>0.000000</td>\n",
              "      <td>9.066667</td>\n",
              "      <td>1.000000</td>\n",
              "      <td>0.857100</td>\n",
              "      <td>0.000000</td>\n",
              "    </tr>\n",
              "    <tr>\n",
              "      <th>50%</th>\n",
              "      <td>1.700000e+00</td>\n",
              "      <td>7.000000</td>\n",
              "      <td>2.000000</td>\n",
              "      <td>0.000000</td>\n",
              "      <td>6.000000</td>\n",
              "      <td>23.000000</td>\n",
              "      <td>6.000000</td>\n",
              "      <td>1.000000</td>\n",
              "      <td>4.000000</td>\n",
              "      <td>6.000000</td>\n",
              "      <td>0.833333</td>\n",
              "      <td>143.000000</td>\n",
              "      <td>1.000000</td>\n",
              "      <td>0.000000</td>\n",
              "      <td>0.681818</td>\n",
              "      <td>0.437500</td>\n",
              "      <td>0.000000</td>\n",
              "      <td>0.000000</td>\n",
              "      <td>16.400000</td>\n",
              "      <td>3.000000</td>\n",
              "      <td>1.142900</td>\n",
              "      <td>0.000000</td>\n",
              "    </tr>\n",
              "    <tr>\n",
              "      <th>75%</th>\n",
              "      <td>1.700000e+00</td>\n",
              "      <td>14.000000</td>\n",
              "      <td>4.000000</td>\n",
              "      <td>0.000000</td>\n",
              "      <td>11.000000</td>\n",
              "      <td>43.000000</td>\n",
              "      <td>53.000000</td>\n",
              "      <td>4.000000</td>\n",
              "      <td>8.000000</td>\n",
              "      <td>10.000000</td>\n",
              "      <td>1.500000</td>\n",
              "      <td>323.000000</td>\n",
              "      <td>1.000000</td>\n",
              "      <td>1.000000</td>\n",
              "      <td>0.869919</td>\n",
              "      <td>0.666667</td>\n",
              "      <td>1.000000</td>\n",
              "      <td>2.000000</td>\n",
              "      <td>28.000000</td>\n",
              "      <td>6.000000</td>\n",
              "      <td>1.666700</td>\n",
              "      <td>0.000000</td>\n",
              "    </tr>\n",
              "    <tr>\n",
              "      <th>max</th>\n",
              "      <td>1.700000e+00</td>\n",
              "      <td>120.000000</td>\n",
              "      <td>7.000000</td>\n",
              "      <td>102.000000</td>\n",
              "      <td>499.000000</td>\n",
              "      <td>288.000000</td>\n",
              "      <td>6692.000000</td>\n",
              "      <td>498.000000</td>\n",
              "      <td>37.000000</td>\n",
              "      <td>103.000000</td>\n",
              "      <td>2.000000</td>\n",
              "      <td>4541.000000</td>\n",
              "      <td>1.000000</td>\n",
              "      <td>11.000000</td>\n",
              "      <td>1.000000</td>\n",
              "      <td>1.000000</td>\n",
              "      <td>5.000000</td>\n",
              "      <td>19.000000</td>\n",
              "      <td>2052.000000</td>\n",
              "      <td>53.000000</td>\n",
              "      <td>6.777800</td>\n",
              "      <td>10.000000</td>\n",
              "    </tr>\n",
              "  </tbody>\n",
              "</table>\n",
              "</div>\n",
              "      <button class=\"colab-df-convert\" onclick=\"convertToInteractive('df-d45c2c98-2bce-4fdc-93d4-ed690ec991ce')\"\n",
              "              title=\"Convert this dataframe to an interactive table.\"\n",
              "              style=\"display:none;\">\n",
              "        \n",
              "  <svg xmlns=\"http://www.w3.org/2000/svg\" height=\"24px\"viewBox=\"0 0 24 24\"\n",
              "       width=\"24px\">\n",
              "    <path d=\"M0 0h24v24H0V0z\" fill=\"none\"/>\n",
              "    <path d=\"M18.56 5.44l.94 2.06.94-2.06 2.06-.94-2.06-.94-.94-2.06-.94 2.06-2.06.94zm-11 1L8.5 8.5l.94-2.06 2.06-.94-2.06-.94L8.5 2.5l-.94 2.06-2.06.94zm10 10l.94 2.06.94-2.06 2.06-.94-2.06-.94-.94-2.06-.94 2.06-2.06.94z\"/><path d=\"M17.41 7.96l-1.37-1.37c-.4-.4-.92-.59-1.43-.59-.52 0-1.04.2-1.43.59L10.3 9.45l-7.72 7.72c-.78.78-.78 2.05 0 2.83L4 21.41c.39.39.9.59 1.41.59.51 0 1.02-.2 1.41-.59l7.78-7.78 2.81-2.81c.8-.78.8-2.07 0-2.86zM5.41 20L4 18.59l7.72-7.72 1.47 1.35L5.41 20z\"/>\n",
              "  </svg>\n",
              "      </button>\n",
              "      \n",
              "  <style>\n",
              "    .colab-df-container {\n",
              "      display:flex;\n",
              "      flex-wrap:wrap;\n",
              "      gap: 12px;\n",
              "    }\n",
              "\n",
              "    .colab-df-convert {\n",
              "      background-color: #E8F0FE;\n",
              "      border: none;\n",
              "      border-radius: 50%;\n",
              "      cursor: pointer;\n",
              "      display: none;\n",
              "      fill: #1967D2;\n",
              "      height: 32px;\n",
              "      padding: 0 0 0 0;\n",
              "      width: 32px;\n",
              "    }\n",
              "\n",
              "    .colab-df-convert:hover {\n",
              "      background-color: #E2EBFA;\n",
              "      box-shadow: 0px 1px 2px rgba(60, 64, 67, 0.3), 0px 1px 3px 1px rgba(60, 64, 67, 0.15);\n",
              "      fill: #174EA6;\n",
              "    }\n",
              "\n",
              "    [theme=dark] .colab-df-convert {\n",
              "      background-color: #3B4455;\n",
              "      fill: #D2E3FC;\n",
              "    }\n",
              "\n",
              "    [theme=dark] .colab-df-convert:hover {\n",
              "      background-color: #434B5C;\n",
              "      box-shadow: 0px 1px 3px 1px rgba(0, 0, 0, 0.15);\n",
              "      filter: drop-shadow(0px 1px 2px rgba(0, 0, 0, 0.3));\n",
              "      fill: #FFFFFF;\n",
              "    }\n",
              "  </style>\n",
              "\n",
              "      <script>\n",
              "        const buttonEl =\n",
              "          document.querySelector('#df-d45c2c98-2bce-4fdc-93d4-ed690ec991ce button.colab-df-convert');\n",
              "        buttonEl.style.display =\n",
              "          google.colab.kernel.accessAllowed ? 'block' : 'none';\n",
              "\n",
              "        async function convertToInteractive(key) {\n",
              "          const element = document.querySelector('#df-d45c2c98-2bce-4fdc-93d4-ed690ec991ce');\n",
              "          const dataTable =\n",
              "            await google.colab.kernel.invokeFunction('convertToInteractive',\n",
              "                                                     [key], {});\n",
              "          if (!dataTable) return;\n",
              "\n",
              "          const docLinkHtml = 'Like what you see? Visit the ' +\n",
              "            '<a target=\"_blank\" href=https://colab.research.google.com/notebooks/data_table.ipynb>data table notebook</a>'\n",
              "            + ' to learn more about interactive tables.';\n",
              "          element.innerHTML = '';\n",
              "          dataTable['output_type'] = 'display_data';\n",
              "          await google.colab.output.renderOutput(dataTable, element);\n",
              "          const docLink = document.createElement('div');\n",
              "          docLink.innerHTML = docLinkHtml;\n",
              "          element.appendChild(docLink);\n",
              "        }\n",
              "      </script>\n",
              "    </div>\n",
              "  </div>\n",
              "  "
            ],
            "text/plain": [
              "            version         wmc         dit  ...      max_cc      avg_cc         bug\n",
              "count  7.450000e+02  745.000000  745.000000  ...  745.000000  745.000000  745.000000\n",
              "mean   1.700000e+00   11.071141    2.522148  ...    4.669799    1.366053    0.453691\n",
              "std    2.377473e-14   11.975963    1.398869  ...    6.276853    0.881739    1.138673\n",
              "min    1.700000e+00    0.000000    1.000000  ...    0.000000    0.000000    0.000000\n",
              "25%    1.700000e+00    4.000000    1.000000  ...    1.000000    0.857100    0.000000\n",
              "50%    1.700000e+00    7.000000    2.000000  ...    3.000000    1.142900    0.000000\n",
              "75%    1.700000e+00   14.000000    4.000000  ...    6.000000    1.666700    0.000000\n",
              "max    1.700000e+00  120.000000    7.000000  ...   53.000000    6.777800   10.000000\n",
              "\n",
              "[8 rows x 22 columns]"
            ]
          },
          "metadata": {},
          "execution_count": 44
        }
      ]
    },
    {
      "cell_type": "code",
      "source": [
        "df.info()"
      ],
      "metadata": {
        "colab": {
          "base_uri": "https://localhost:8080/"
        },
        "id": "GoKrWbT0jy3X",
        "outputId": "2564c696-f987-4d12-e9cd-5fe7ca7ea9ab"
      },
      "execution_count": 45,
      "outputs": [
        {
          "output_type": "stream",
          "name": "stdout",
          "text": [
            "<class 'pandas.core.frame.DataFrame'>\n",
            "RangeIndex: 745 entries, 0 to 744\n",
            "Data columns (total 24 columns):\n",
            " #   Column   Non-Null Count  Dtype  \n",
            "---  ------   --------------  -----  \n",
            " 0   name     745 non-null    object \n",
            " 1   version  745 non-null    float64\n",
            " 2   name.1   745 non-null    object \n",
            " 3   wmc      745 non-null    int64  \n",
            " 4   dit      745 non-null    int64  \n",
            " 5   noc      745 non-null    int64  \n",
            " 6   cbo      745 non-null    int64  \n",
            " 7   rfc      745 non-null    int64  \n",
            " 8   lcom     745 non-null    int64  \n",
            " 9   ca       745 non-null    int64  \n",
            " 10  ce       745 non-null    int64  \n",
            " 11  npm      745 non-null    int64  \n",
            " 12  lcom3    745 non-null    float64\n",
            " 13  loc      745 non-null    int64  \n",
            " 14  dam      745 non-null    float64\n",
            " 15  moa      745 non-null    int64  \n",
            " 16  mfa      745 non-null    float64\n",
            " 17  cam      745 non-null    float64\n",
            " 18  ic       745 non-null    int64  \n",
            " 19  cbm      745 non-null    int64  \n",
            " 20  amc      745 non-null    float64\n",
            " 21  max_cc   745 non-null    int64  \n",
            " 22  avg_cc   745 non-null    float64\n",
            " 23  bug      745 non-null    int64  \n",
            "dtypes: float64(7), int64(15), object(2)\n",
            "memory usage: 139.8+ KB\n"
          ]
        }
      ]
    },
    {
      "cell_type": "markdown",
      "metadata": {
        "id": "vO2v0MeTHPCk"
      },
      "source": [
        "## Feature selection"
      ]
    },
    {
      "cell_type": "markdown",
      "source": [
        "###Correlation matrix"
      ],
      "metadata": {
        "id": "7_oG0hZn4nr2"
      }
    },
    {
      "cell_type": "code",
      "metadata": {
        "id": "unwE_d8Sj_B3",
        "colab": {
          "base_uri": "https://localhost:8080/",
          "height": 635
        },
        "outputId": "4c8c9f46-afb2-40bb-d6c4-49aaff7fe0cc"
      },
      "source": [
        "correlation_matrix(df,\"Ant-1.7\")"
      ],
      "execution_count": 46,
      "outputs": [
        {
          "output_type": "display_data",
          "data": {
            "image/png": "[encoded data removed]",
            "text/plain": [
              "<Figure size 1080x720 with 2 Axes>"
            ]
          },
          "metadata": {
            "needs_background": "light"
          }
        }
      ]
    },
    {
      "cell_type": "markdown",
      "source": [
        "Best features from the correlation matrix are:\n",
        "* rfc\n",
        "* lcom\n",
        "* wmc"
      ],
      "metadata": {
        "id": "07gkST7O4Y8c"
      }
    },
    {
      "cell_type": "markdown",
      "source": [
        "###K Best Features"
      ],
      "metadata": {
        "id": "56XSFMT_49Yu"
      }
    },
    {
      "cell_type": "code",
      "source": [
        "kbf=k_best_features(df)"
      ],
      "metadata": {
        "colab": {
          "base_uri": "https://localhost:8080/",
          "height": 1000
        },
        "id": "Fbl66ppdMgRv",
        "outputId": "fa7c6f0f-1d08-4fd9-cafe-c44cca5882a0"
      },
      "execution_count": 47,
      "outputs": [
        {
          "output_type": "stream",
          "name": "stdout",
          "text": [
            "      ftr          score           pval\n",
            "0     wmc    3540.023062   0.000000e+00\n",
            "1     dit       8.085337   5.255697e-01\n",
            "2     noc      27.226487   1.283035e-03\n",
            "3     cbo   12206.905856   0.000000e+00\n",
            "4     rfc   12691.096311   0.000000e+00\n",
            "5    lcom  595241.770351   0.000000e+00\n",
            "6      ca   21464.251188   0.000000e+00\n",
            "7      ce    1282.676602  1.705487e-270\n",
            "8     npm    2433.103830   0.000000e+00\n",
            "9   lcom3       4.152249   9.011089e-01\n",
            "10    loc  204625.362339   0.000000e+00\n",
            "11    dam       9.742977   3.716906e-01\n",
            "12    moa     315.539590   1.313916e-62\n",
            "13    mfa       2.147167   9.889207e-01\n",
            "14    cam      13.281598   1.502727e-01\n",
            "15     ic      29.233860   5.917210e-04\n",
            "16    cbm     128.312683   2.635805e-23\n",
            "17    amc     755.840226  6.771209e-157\n",
            "\n",
            "K best features:  ['lcom' 'ca' 'loc']\n"
          ]
        },
        {
          "output_type": "display_data",
          "data": {
            "image/png": "[encoded data removed]",
            "text/plain": [
              "<Figure size 864x720 with 1 Axes>"
            ]
          },
          "metadata": {
            "needs_background": "light"
          }
        }
      ]
    },
    {
      "cell_type": "markdown",
      "source": [
        "Best features from the K best are:\n",
        "* lcom\n",
        "* ca\n",
        "* loc"
      ],
      "metadata": {
        "id": "w600xHlExkhW"
      }
    },
    {
      "cell_type": "markdown",
      "source": [
        "###Test R2 of K Best Features"
      ],
      "metadata": {
        "id": "lE58R1cwrQq8"
      }
    },
    {
      "cell_type": "code",
      "source": [
        "test_r2(df,\"lcom\")\n",
        "print()\n",
        "test_r2(df,\"ca\")\n",
        "print()\n",
        "test_r2(df,\"loc\")"
      ],
      "metadata": {
        "colab": {
          "base_uri": "https://localhost:8080/"
        },
        "id": "50TpE-miq4od",
        "outputId": "118ca4f3-c594-401a-da06-0bce3ed303fe"
      },
      "execution_count": 48,
      "outputs": [
        {
          "output_type": "stream",
          "name": "stdout",
          "text": [
            "Test R squared error of feature  lcom  with fixed random state\n",
            "R squared error 0.1741861215243018\n",
            "\n",
            "Test R squared error of feature  ca  with fixed random state\n",
            "R squared error -0.30484697955763496\n",
            "\n",
            "Test R squared error of feature  loc  with fixed random state\n",
            "R squared error 0.34815043036161464\n"
          ]
        }
      ]
    },
    {
      "cell_type": "markdown",
      "source": [
        "###Test R2 of features selected by correlation degree"
      ],
      "metadata": {
        "id": "4dann5FPrpUs"
      }
    },
    {
      "cell_type": "code",
      "source": [
        "test_r2(df,\"rfc\")\n",
        "print()\n",
        "test_r2(df,\"loc\")\n",
        "print()\n",
        "test_r2(df,\"wmc\")"
      ],
      "metadata": {
        "colab": {
          "base_uri": "https://localhost:8080/"
        },
        "id": "8IGZkugHq4hc",
        "outputId": "2ca89244-0bfd-47f0-92ec-5668436e2623"
      },
      "execution_count": 49,
      "outputs": [
        {
          "output_type": "stream",
          "name": "stdout",
          "text": [
            "Test R squared error of feature  rfc  with fixed random state\n",
            "R squared error 0.39111134150720617\n",
            "\n",
            "Test R squared error of feature  loc  with fixed random state\n",
            "R squared error 0.34815043036161464\n",
            "\n",
            "Test R squared error of feature  wmc  with fixed random state\n",
            "R squared error 0.2930365944956619\n"
          ]
        }
      ]
    },
    {
      "cell_type": "markdown",
      "source": [
        "Feature selezionate in base al grado di correlazione: rfc, loc, wmc\n",
        "In modo tale da vedere meglio le variazioni."
      ],
      "metadata": {
        "id": "2rINTZrHrv24"
      }
    },
    {
      "cell_type": "markdown",
      "source": [
        "###Create dataframe with selected features"
      ],
      "metadata": {
        "id": "0znC-LZIiUc8"
      }
    },
    {
      "cell_type": "code",
      "metadata": {
        "id": "8LYk3wOw8U-m"
      },
      "source": [
        "df_selected=create_df_selected(df,\"rfc\",\"loc\",\"wmc\")"
      ],
      "execution_count": 50,
      "outputs": []
    },
    {
      "cell_type": "code",
      "metadata": {
        "id": "R9m6AuZek3wY",
        "colab": {
          "base_uri": "https://localhost:8080/",
          "height": 180
        },
        "outputId": "37c0816a-a9f2-4ee4-bd37-efb8fec7fb55"
      },
      "source": [
        "df_structure(df_selected)\n",
        "df_selected.head(3)"
      ],
      "execution_count": 51,
      "outputs": [
        {
          "output_type": "stream",
          "name": "stdout",
          "text": [
            "shape:  (745, 4)\n",
            "columns:  Index(['rfc', 'loc', 'wmc', 'bug'], dtype='object')\n"
          ]
        },
        {
          "output_type": "execute_result",
          "data": {
            "text/html": [
              "\n",
              "  <div id=\"df-f4acf351-a472-4585-96f0-dfba88a3d590\">\n",
              "    <div class=\"colab-df-container\">\n",
              "      <div>\n",
              "<style scoped>\n",
              "    .dataframe tbody tr th:only-of-type {\n",
              "        vertical-align: middle;\n",
              "    }\n",
              "\n",
              "    .dataframe tbody tr th {\n",
              "        vertical-align: top;\n",
              "    }\n",
              "\n",
              "    .dataframe thead th {\n",
              "        text-align: right;\n",
              "    }\n",
              "</style>\n",
              "<table border=\"1\" class=\"dataframe\">\n",
              "  <thead>\n",
              "    <tr style=\"text-align: right;\">\n",
              "      <th></th>\n",
              "      <th>rfc</th>\n",
              "      <th>loc</th>\n",
              "      <th>wmc</th>\n",
              "      <th>bug</th>\n",
              "    </tr>\n",
              "  </thead>\n",
              "  <tbody>\n",
              "    <tr>\n",
              "      <th>0</th>\n",
              "      <td>18</td>\n",
              "      <td>106</td>\n",
              "      <td>3</td>\n",
              "      <td>0</td>\n",
              "    </tr>\n",
              "    <tr>\n",
              "      <th>1</th>\n",
              "      <td>13</td>\n",
              "      <td>76</td>\n",
              "      <td>5</td>\n",
              "      <td>0</td>\n",
              "    </tr>\n",
              "    <tr>\n",
              "      <th>2</th>\n",
              "      <td>3</td>\n",
              "      <td>7</td>\n",
              "      <td>1</td>\n",
              "      <td>0</td>\n",
              "    </tr>\n",
              "  </tbody>\n",
              "</table>\n",
              "</div>\n",
              "      <button class=\"colab-df-convert\" onclick=\"convertToInteractive('df-f4acf351-a472-4585-96f0-dfba88a3d590')\"\n",
              "              title=\"Convert this dataframe to an interactive table.\"\n",
              "              style=\"display:none;\">\n",
              "        \n",
              "  <svg xmlns=\"http://www.w3.org/2000/svg\" height=\"24px\"viewBox=\"0 0 24 24\"\n",
              "       width=\"24px\">\n",
              "    <path d=\"M0 0h24v24H0V0z\" fill=\"none\"/>\n",
              "    <path d=\"M18.56 5.44l.94 2.06.94-2.06 2.06-.94-2.06-.94-.94-2.06-.94 2.06-2.06.94zm-11 1L8.5 8.5l.94-2.06 2.06-.94-2.06-.94L8.5 2.5l-.94 2.06-2.06.94zm10 10l.94 2.06.94-2.06 2.06-.94-2.06-.94-.94-2.06-.94 2.06-2.06.94z\"/><path d=\"M17.41 7.96l-1.37-1.37c-.4-.4-.92-.59-1.43-.59-.52 0-1.04.2-1.43.59L10.3 9.45l-7.72 7.72c-.78.78-.78 2.05 0 2.83L4 21.41c.39.39.9.59 1.41.59.51 0 1.02-.2 1.41-.59l7.78-7.78 2.81-2.81c.8-.78.8-2.07 0-2.86zM5.41 20L4 18.59l7.72-7.72 1.47 1.35L5.41 20z\"/>\n",
              "  </svg>\n",
              "      </button>\n",
              "      \n",
              "  <style>\n",
              "    .colab-df-container {\n",
              "      display:flex;\n",
              "      flex-wrap:wrap;\n",
              "      gap: 12px;\n",
              "    }\n",
              "\n",
              "    .colab-df-convert {\n",
              "      background-color: #E8F0FE;\n",
              "      border: none;\n",
              "      border-radius: 50%;\n",
              "      cursor: pointer;\n",
              "      display: none;\n",
              "      fill: #1967D2;\n",
              "      height: 32px;\n",
              "      padding: 0 0 0 0;\n",
              "      width: 32px;\n",
              "    }\n",
              "\n",
              "    .colab-df-convert:hover {\n",
              "      background-color: #E2EBFA;\n",
              "      box-shadow: 0px 1px 2px rgba(60, 64, 67, 0.3), 0px 1px 3px 1px rgba(60, 64, 67, 0.15);\n",
              "      fill: #174EA6;\n",
              "    }\n",
              "\n",
              "    [theme=dark] .colab-df-convert {\n",
              "      background-color: #3B4455;\n",
              "      fill: #D2E3FC;\n",
              "    }\n",
              "\n",
              "    [theme=dark] .colab-df-convert:hover {\n",
              "      background-color: #434B5C;\n",
              "      box-shadow: 0px 1px 3px 1px rgba(0, 0, 0, 0.15);\n",
              "      filter: drop-shadow(0px 1px 2px rgba(0, 0, 0, 0.3));\n",
              "      fill: #FFFFFF;\n",
              "    }\n",
              "  </style>\n",
              "\n",
              "      <script>\n",
              "        const buttonEl =\n",
              "          document.querySelector('#df-f4acf351-a472-4585-96f0-dfba88a3d590 button.colab-df-convert');\n",
              "        buttonEl.style.display =\n",
              "          google.colab.kernel.accessAllowed ? 'block' : 'none';\n",
              "\n",
              "        async function convertToInteractive(key) {\n",
              "          const element = document.querySelector('#df-f4acf351-a472-4585-96f0-dfba88a3d590');\n",
              "          const dataTable =\n",
              "            await google.colab.kernel.invokeFunction('convertToInteractive',\n",
              "                                                     [key], {});\n",
              "          if (!dataTable) return;\n",
              "\n",
              "          const docLinkHtml = 'Like what you see? Visit the ' +\n",
              "            '<a target=\"_blank\" href=https://colab.research.google.com/notebooks/data_table.ipynb>data table notebook</a>'\n",
              "            + ' to learn more about interactive tables.';\n",
              "          element.innerHTML = '';\n",
              "          dataTable['output_type'] = 'display_data';\n",
              "          await google.colab.output.renderOutput(dataTable, element);\n",
              "          const docLink = document.createElement('div');\n",
              "          docLink.innerHTML = docLinkHtml;\n",
              "          element.appendChild(docLink);\n",
              "        }\n",
              "      </script>\n",
              "    </div>\n",
              "  </div>\n",
              "  "
            ],
            "text/plain": [
              "   rfc  loc  wmc  bug\n",
              "0   18  106    3    0\n",
              "1   13   76    5    0\n",
              "2    3    7    1    0"
            ]
          },
          "metadata": {},
          "execution_count": 51
        }
      ]
    },
    {
      "cell_type": "markdown",
      "metadata": {
        "id": "ZIG43osXuoE3"
      },
      "source": [
        "## Data visualization"
      ]
    },
    {
      "cell_type": "code",
      "source": [
        "pairplot(df_selected)"
      ],
      "metadata": {
        "colab": {
          "base_uri": "https://localhost:8080/",
          "height": 726
        },
        "id": "90wryh606NOt",
        "outputId": "75aa83fa-6574-4b3e-ae09-0f871fd56fd3"
      },
      "execution_count": 52,
      "outputs": [
        {
          "output_type": "display_data",
          "data": {
            "image/png": "[encoded data removed]",
            "text/plain": [
              "<Figure size 720x720 with 20 Axes>"
            ]
          },
          "metadata": {
            "needs_background": "light"
          }
        }
      ]
    },
    {
      "cell_type": "markdown",
      "source": [
        "Pairwise relationships in the dataframe.\n",
        "The diagonal plots are a univariate distribution plot, made to show the marginal distribution of the data in each column."
      ],
      "metadata": {
        "id": "4h_DHFAjOkG8"
      }
    },
    {
      "cell_type": "code",
      "source": [
        "df_selected=add_is_bugged(df_selected)"
      ],
      "metadata": {
        "id": "7nZ9nDSzxgjf"
      },
      "execution_count": 53,
      "outputs": []
    },
    {
      "cell_type": "code",
      "source": [
        "interactive_pie(df_selected)"
      ],
      "metadata": {
        "colab": {
          "base_uri": "https://localhost:8080/",
          "height": 542
        },
        "id": "pndxWUpaOpPx",
        "outputId": "59295012-e9cb-4897-c6db-61ae9433110f"
      },
      "execution_count": 58,
      "outputs": [
        {
          "output_type": "display_data",
          "data": {
            "text/html": [
              "<html>\n",
              "<head><meta charset=\"utf-8\" /></head>\n",
              "<body>\n",
              "    <div>\n",
              "            <script src=\"https://cdnjs.cloudflare.com/ajax/libs/mathjax/2.7.5/MathJax.js?config=TeX-AMS-MML_SVG\"></script><script type=\"text/javascript\">if (window.MathJax) {MathJax.Hub.Config({SVG: {font: \"STIX-Web\"}});}</script>\n",
              "                <script type=\"text/javascript\">window.PlotlyConfig = {MathJaxConfig: 'local'};</script>\n",
              "        <script src=\"https://cdn.plot.ly/plotly-latest.min.js\"></script>    \n",
              "            <div id=\"f10ec610-8267-4b72-8e0c-65352dc19122\" class=\"plotly-graph-div\" style=\"height:525px; width:100%;\"></div>\n",
              "            <script type=\"text/javascript\">\n",
              "                \n",
              "                    window.PLOTLYENV=window.PLOTLYENV || {};\n",
              "                    \n",
              "                if (document.getElementById(\"f10ec610-8267-4b72-8e0c-65352dc19122\")) {\n",
              "                    Plotly.newPlot(\n",
              "                        'f10ec610-8267-4b72-8e0c-65352dc19122',\n",
              "                        [{\"domain\": {\"x\": [0.0, 1.0], \"y\": [0.0, 1.0]}, \"hoverlabel\": {\"namelength\": 0}, \"hovertemplate\": \"num=%{label}<br>is_bugged=%{value}\", \"labels\": [0, 1], \"legendgroup\": \"\", \"name\": \"\", \"showlegend\": true, \"type\": \"pie\", \"values\": [579, 166]}],\n",
              "                        {\"legend\": {\"tracegroupgap\": 0}, \"template\": {\"data\": {\"bar\": [{\"error_x\": {\"color\": \"#2a3f5f\"}, \"error_y\": {\"color\": \"#2a3f5f\"}, \"marker\": {\"line\": {\"color\": \"#E5ECF6\", \"width\": 0.5}}, \"type\": \"bar\"}], \"barpolar\": [{\"marker\": {\"line\": {\"color\": \"#E5ECF6\", \"width\": 0.5}}, \"type\": \"barpolar\"}], \"carpet\": [{\"aaxis\": {\"endlinecolor\": \"#2a3f5f\", \"gridcolor\": \"white\", \"linecolor\": \"white\", \"minorgridcolor\": \"white\", \"startlinecolor\": \"#2a3f5f\"}, \"baxis\": {\"endlinecolor\": \"#2a3f5f\", \"gridcolor\": \"white\", \"linecolor\": \"white\", \"minorgridcolor\": \"white\", \"startlinecolor\": \"#2a3f5f\"}, \"type\": \"carpet\"}], \"choropleth\": [{\"colorbar\": {\"outlinewidth\": 0, \"ticks\": \"\"}, \"type\": \"choropleth\"}], \"contour\": [{\"colorbar\": {\"outlinewidth\": 0, \"ticks\": \"\"}, \"colorscale\": [[0.0, \"#0d0887\"], [0.1111111111111111, \"#46039f\"], [0.2222222222222222, \"#7201a8\"], [0.3333333333333333, \"#9c179e\"], [0.4444444444444444, \"#bd3786\"], [0.5555555555555556, \"#d8576b\"], [0.6666666666666666, \"#ed7953\"], [0.7777777777777778, \"#fb9f3a\"], [0.8888888888888888, \"#fdca26\"], [1.0, \"#f0f921\"]], \"type\": \"contour\"}], \"contourcarpet\": [{\"colorbar\": {\"outlinewidth\": 0, \"ticks\": \"\"}, \"type\": \"contourcarpet\"}], \"heatmap\": [{\"colorbar\": {\"outlinewidth\": 0, \"ticks\": \"\"}, \"colorscale\": [[0.0, \"#0d0887\"], [0.1111111111111111, \"#46039f\"], [0.2222222222222222, \"#7201a8\"], [0.3333333333333333, \"#9c179e\"], [0.4444444444444444, \"#bd3786\"], [0.5555555555555556, \"#d8576b\"], [0.6666666666666666, \"#ed7953\"], [0.7777777777777778, \"#fb9f3a\"], [0.8888888888888888, \"#fdca26\"], [1.0, \"#f0f921\"]], \"type\": \"heatmap\"}], \"heatmapgl\": [{\"colorbar\": {\"outlinewidth\": 0, \"ticks\": \"\"}, \"colorscale\": [[0.0, \"#0d0887\"], [0.1111111111111111, \"#46039f\"], [0.2222222222222222, \"#7201a8\"], [0.3333333333333333, \"#9c179e\"], [0.4444444444444444, \"#bd3786\"], [0.5555555555555556, \"#d8576b\"], [0.6666666666666666, \"#ed7953\"], [0.7777777777777778, \"#fb9f3a\"], [0.8888888888888888, \"#fdca26\"], [1.0, \"#f0f921\"]], \"type\": \"heatmapgl\"}], \"histogram\": [{\"marker\": {\"colorbar\": {\"outlinewidth\": 0, \"ticks\": \"\"}}, \"type\": \"histogram\"}], \"histogram2d\": [{\"colorbar\": {\"outlinewidth\": 0, \"ticks\": \"\"}, \"colorscale\": [[0.0, \"#0d0887\"], [0.1111111111111111, \"#46039f\"], [0.2222222222222222, \"#7201a8\"], [0.3333333333333333, \"#9c179e\"], [0.4444444444444444, \"#bd3786\"], [0.5555555555555556, \"#d8576b\"], [0.6666666666666666, \"#ed7953\"], [0.7777777777777778, \"#fb9f3a\"], [0.8888888888888888, \"#fdca26\"], [1.0, \"#f0f921\"]], \"type\": \"histogram2d\"}], \"histogram2dcontour\": [{\"colorbar\": {\"outlinewidth\": 0, \"ticks\": \"\"}, \"colorscale\": [[0.0, \"#0d0887\"], [0.1111111111111111, \"#46039f\"], [0.2222222222222222, \"#7201a8\"], [0.3333333333333333, \"#9c179e\"], [0.4444444444444444, \"#bd3786\"], [0.5555555555555556, \"#d8576b\"], [0.6666666666666666, \"#ed7953\"], [0.7777777777777778, \"#fb9f3a\"], [0.8888888888888888, \"#fdca26\"], [1.0, \"#f0f921\"]], \"type\": \"histogram2dcontour\"}], \"mesh3d\": [{\"colorbar\": {\"outlinewidth\": 0, \"ticks\": \"\"}, \"type\": \"mesh3d\"}], \"parcoords\": [{\"line\": {\"colorbar\": {\"outlinewidth\": 0, \"ticks\": \"\"}}, \"type\": \"parcoords\"}], \"pie\": [{\"automargin\": true, \"type\": \"pie\"}], \"scatter\": [{\"marker\": {\"colorbar\": {\"outlinewidth\": 0, \"ticks\": \"\"}}, \"type\": \"scatter\"}], \"scatter3d\": [{\"line\": {\"colorbar\": {\"outlinewidth\": 0, \"ticks\": \"\"}}, \"marker\": {\"colorbar\": {\"outlinewidth\": 0, \"ticks\": \"\"}}, \"type\": \"scatter3d\"}], \"scattercarpet\": [{\"marker\": {\"colorbar\": {\"outlinewidth\": 0, \"ticks\": \"\"}}, \"type\": \"scattercarpet\"}], \"scattergeo\": [{\"marker\": {\"colorbar\": {\"outlinewidth\": 0, \"ticks\": \"\"}}, \"type\": \"scattergeo\"}], \"scattergl\": [{\"marker\": {\"colorbar\": {\"outlinewidth\": 0, \"ticks\": \"\"}}, \"type\": \"scattergl\"}], \"scattermapbox\": [{\"marker\": {\"colorbar\": {\"outlinewidth\": 0, \"ticks\": \"\"}}, \"type\": \"scattermapbox\"}], \"scatterpolar\": [{\"marker\": {\"colorbar\": {\"outlinewidth\": 0, \"ticks\": \"\"}}, \"type\": \"scatterpolar\"}], \"scatterpolargl\": [{\"marker\": {\"colorbar\": {\"outlinewidth\": 0, \"ticks\": \"\"}}, \"type\": \"scatterpolargl\"}], \"scatterternary\": [{\"marker\": {\"colorbar\": {\"outlinewidth\": 0, \"ticks\": \"\"}}, \"type\": \"scatterternary\"}], \"surface\": [{\"colorbar\": {\"outlinewidth\": 0, \"ticks\": \"\"}, \"colorscale\": [[0.0, \"#0d0887\"], [0.1111111111111111, \"#46039f\"], [0.2222222222222222, \"#7201a8\"], [0.3333333333333333, \"#9c179e\"], [0.4444444444444444, \"#bd3786\"], [0.5555555555555556, \"#d8576b\"], [0.6666666666666666, \"#ed7953\"], [0.7777777777777778, \"#fb9f3a\"], [0.8888888888888888, \"#fdca26\"], [1.0, \"#f0f921\"]], \"type\": \"surface\"}], \"table\": [{\"cells\": {\"fill\": {\"color\": \"#EBF0F8\"}, \"line\": {\"color\": \"white\"}}, \"header\": {\"fill\": {\"color\": \"#C8D4E3\"}, \"line\": {\"color\": \"white\"}}, \"type\": \"table\"}]}, \"layout\": {\"annotationdefaults\": {\"arrowcolor\": \"#2a3f5f\", \"arrowhead\": 0, \"arrowwidth\": 1}, \"coloraxis\": {\"colorbar\": {\"outlinewidth\": 0, \"ticks\": \"\"}}, \"colorscale\": {\"diverging\": [[0, \"#8e0152\"], [0.1, \"#c51b7d\"], [0.2, \"#de77ae\"], [0.3, \"#f1b6da\"], [0.4, \"#fde0ef\"], [0.5, \"#f7f7f7\"], [0.6, \"#e6f5d0\"], [0.7, \"#b8e186\"], [0.8, \"#7fbc41\"], [0.9, \"#4d9221\"], [1, \"#276419\"]], \"sequential\": [[0.0, \"#0d0887\"], [0.1111111111111111, \"#46039f\"], [0.2222222222222222, \"#7201a8\"], [0.3333333333333333, \"#9c179e\"], [0.4444444444444444, \"#bd3786\"], [0.5555555555555556, \"#d8576b\"], [0.6666666666666666, \"#ed7953\"], [0.7777777777777778, \"#fb9f3a\"], [0.8888888888888888, \"#fdca26\"], [1.0, \"#f0f921\"]], \"sequentialminus\": [[0.0, \"#0d0887\"], [0.1111111111111111, \"#46039f\"], [0.2222222222222222, \"#7201a8\"], [0.3333333333333333, \"#9c179e\"], [0.4444444444444444, \"#bd3786\"], [0.5555555555555556, \"#d8576b\"], [0.6666666666666666, \"#ed7953\"], [0.7777777777777778, \"#fb9f3a\"], [0.8888888888888888, \"#fdca26\"], [1.0, \"#f0f921\"]]}, \"colorway\": [\"#636efa\", \"#EF553B\", \"#00cc96\", \"#ab63fa\", \"#FFA15A\", \"#19d3f3\", \"#FF6692\", \"#B6E880\", \"#FF97FF\", \"#FECB52\"], \"font\": {\"color\": \"#2a3f5f\"}, \"geo\": {\"bgcolor\": \"white\", \"lakecolor\": \"white\", \"landcolor\": \"#E5ECF6\", \"showlakes\": true, \"showland\": true, \"subunitcolor\": \"white\"}, \"hoverlabel\": {\"align\": \"left\"}, \"hovermode\": \"closest\", \"mapbox\": {\"style\": \"light\"}, \"paper_bgcolor\": \"white\", \"plot_bgcolor\": \"#E5ECF6\", \"polar\": {\"angularaxis\": {\"gridcolor\": \"white\", \"linecolor\": \"white\", \"ticks\": \"\"}, \"bgcolor\": \"#E5ECF6\", \"radialaxis\": {\"gridcolor\": \"white\", \"linecolor\": \"white\", \"ticks\": \"\"}}, \"scene\": {\"xaxis\": {\"backgroundcolor\": \"#E5ECF6\", \"gridcolor\": \"white\", \"gridwidth\": 2, \"linecolor\": \"white\", \"showbackground\": true, \"ticks\": \"\", \"zerolinecolor\": \"white\"}, \"yaxis\": {\"backgroundcolor\": \"#E5ECF6\", \"gridcolor\": \"white\", \"gridwidth\": 2, \"linecolor\": \"white\", \"showbackground\": true, \"ticks\": \"\", \"zerolinecolor\": \"white\"}, \"zaxis\": {\"backgroundcolor\": \"#E5ECF6\", \"gridcolor\": \"white\", \"gridwidth\": 2, \"linecolor\": \"white\", \"showbackground\": true, \"ticks\": \"\", \"zerolinecolor\": \"white\"}}, \"shapedefaults\": {\"line\": {\"color\": \"#2a3f5f\"}}, \"ternary\": {\"aaxis\": {\"gridcolor\": \"white\", \"linecolor\": \"white\", \"ticks\": \"\"}, \"baxis\": {\"gridcolor\": \"white\", \"linecolor\": \"white\", \"ticks\": \"\"}, \"bgcolor\": \"#E5ECF6\", \"caxis\": {\"gridcolor\": \"white\", \"linecolor\": \"white\", \"ticks\": \"\"}}, \"title\": {\"x\": 0.05}, \"xaxis\": {\"automargin\": true, \"gridcolor\": \"white\", \"linecolor\": \"white\", \"ticks\": \"\", \"title\": {\"standoff\": 15}, \"zerolinecolor\": \"white\", \"zerolinewidth\": 2}, \"yaxis\": {\"automargin\": true, \"gridcolor\": \"white\", \"linecolor\": \"white\", \"ticks\": \"\", \"title\": {\"standoff\": 15}, \"zerolinecolor\": \"white\", \"zerolinewidth\": 2}}}, \"title\": {\"text\": \"Bugged and not bugged elements\"}},\n",
              "                        {\"responsive\": true}\n",
              "                    ).then(function(){\n",
              "                            \n",
              "var gd = document.getElementById('f10ec610-8267-4b72-8e0c-65352dc19122');\n",
              "var x = new MutationObserver(function (mutations, observer) {{\n",
              "        var display = window.getComputedStyle(gd).display;\n",
              "        if (!display || display === 'none') {{\n",
              "            console.log([gd, 'removed!']);\n",
              "            Plotly.purge(gd);\n",
              "            observer.disconnect();\n",
              "        }}\n",
              "}});\n",
              "\n",
              "// Listen for the removal of the full notebook cells\n",
              "var notebookContainer = gd.closest('#notebook-container');\n",
              "if (notebookContainer) {{\n",
              "    x.observe(notebookContainer, {childList: true});\n",
              "}}\n",
              "\n",
              "// Listen for the clearing of the current output cell\n",
              "var outputEl = gd.closest('.output');\n",
              "if (outputEl) {{\n",
              "    x.observe(outputEl, {childList: true});\n",
              "}}\n",
              "\n",
              "                        })\n",
              "                };\n",
              "                \n",
              "            </script>\n",
              "        </div>\n",
              "</body>\n",
              "</html>"
            ]
          },
          "metadata": {}
        }
      ]
    },
    {
      "cell_type": "markdown",
      "source": [
        "77.7% of the elements are not bugged and 22.3% are bugged"
      ],
      "metadata": {
        "id": "Kz2U16fdxv66"
      }
    },
    {
      "cell_type": "code",
      "source": [
        "interactive_pie_2(df_selected)"
      ],
      "metadata": {
        "id": "jNR57vWQL_ZX"
      },
      "execution_count": null,
      "outputs": []
    },
    {
      "cell_type": "markdown",
      "source": [
        "* 77.7% 0 bugs\n",
        "* 12.5% 1 bugs\n",
        "* 4.03% 2 bugs\n",
        "* 2.15% 3 bugs\n",
        "* 2.01% 4 bugs\n",
        "* 0.537% 6 bugs\n",
        "* 0.537% 5 bugs\n",
        "* 0.268% 8 bugs\n",
        "* 0.134% 10 bugs\n",
        "* 0.134% 7 bugs"
      ],
      "metadata": {
        "id": "WbqfTCVsyh-G"
      }
    },
    {
      "cell_type": "code",
      "source": [
        "countplot_feature(df_selected,\"bug\")"
      ],
      "metadata": {
        "id": "HYLbomr51nJ_"
      },
      "execution_count": null,
      "outputs": []
    },
    {
      "cell_type": "code",
      "source": [
        "histplot_feature(df_selected,\"rfc\", \"blue\")"
      ],
      "metadata": {
        "id": "OA3Fd9mT2DrA"
      },
      "execution_count": null,
      "outputs": []
    },
    {
      "cell_type": "markdown",
      "source": [
        "The most frequent rfc values are between 0 and 25"
      ],
      "metadata": {
        "id": "Tw6hpuIOzcXd"
      }
    },
    {
      "cell_type": "code",
      "source": [
        "histplot_feature(df_selected,\"loc\",\"purple\")"
      ],
      "metadata": {
        "id": "gCjA4BSg1OiH"
      },
      "execution_count": null,
      "outputs": []
    },
    {
      "cell_type": "markdown",
      "source": [
        "The most frequent loc values are between 0 and 50"
      ],
      "metadata": {
        "id": "VmU5BK7Dzn-J"
      }
    },
    {
      "cell_type": "code",
      "source": [
        "histplot_feature(df_selected,\"wmc\",\"green\")"
      ],
      "metadata": {
        "id": "DZgmIJRk2NUc"
      },
      "execution_count": null,
      "outputs": []
    },
    {
      "cell_type": "markdown",
      "source": [
        "The most frequent wmc values are between 0 and 10"
      ],
      "metadata": {
        "id": "NcgPxfgbzsxX"
      }
    },
    {
      "cell_type": "code",
      "source": [
        "boxplot_feature(df_selected, \"rfc\")"
      ],
      "metadata": {
        "id": "LVplTh4B3JmA"
      },
      "execution_count": null,
      "outputs": []
    },
    {
      "cell_type": "markdown",
      "source": [
        "* min: lower fence: 0 \n",
        "* q1: 11\n",
        "* median: 23\n",
        "* q3: 43\n",
        "* upper fence: 91\n",
        "* max: 288"
      ],
      "metadata": {
        "id": "qxhth05CzyVv"
      }
    },
    {
      "cell_type": "code",
      "source": [
        "boxplot_feature(df_selected, \"loc\")"
      ],
      "metadata": {
        "id": "g9OtUkm73S_D"
      },
      "execution_count": null,
      "outputs": []
    },
    {
      "cell_type": "markdown",
      "source": [
        "* min: lower fence: 0 \n",
        "* q1: 52\n",
        "* median: 143\n",
        "* q3: 324\n",
        "* upper fence: 725\n",
        "* max: 4541"
      ],
      "metadata": {
        "id": "S2HJO2OC0HXh"
      }
    },
    {
      "cell_type": "code",
      "source": [
        "boxplot_feature(df_selected, \"wmc\")"
      ],
      "metadata": {
        "id": "EBdq8RO83S8S"
      },
      "execution_count": null,
      "outputs": []
    },
    {
      "cell_type": "markdown",
      "source": [
        "* min: lower fence: 0 \n",
        "* q1: 4\n",
        "* median: 7\n",
        "* q3: 14\n",
        "* upper fence: 29\n",
        "* max: 120"
      ],
      "metadata": {
        "id": "xOsACteN0RRo"
      }
    },
    {
      "cell_type": "code",
      "source": [
        "boxplot_feature(df_selected, \"bug\")"
      ],
      "metadata": {
        "id": "od_P6CXl384G"
      },
      "execution_count": null,
      "outputs": []
    },
    {
      "cell_type": "markdown",
      "source": [
        "* min: median: 0\n",
        "* max: 10"
      ],
      "metadata": {
        "id": "-YN0br-L0XDN"
      }
    },
    {
      "cell_type": "code",
      "metadata": {
        "id": "UTcrm8ZNurHq"
      },
      "source": [
        "scatter_ind_bug(df_selected,\"rfc\")"
      ],
      "execution_count": null,
      "outputs": []
    },
    {
      "cell_type": "markdown",
      "source": [
        "The highest concentration of values is near the x axis with a x value lower than 100"
      ],
      "metadata": {
        "id": "IFJNjf6s0e8w"
      }
    },
    {
      "cell_type": "code",
      "metadata": {
        "id": "3bf0xKNOzi-q"
      },
      "source": [
        "scatter_ind_bug(df_selected,\"loc\")"
      ],
      "execution_count": null,
      "outputs": []
    },
    {
      "cell_type": "markdown",
      "source": [
        "The highest concentration of values is near the x axis with a x value lower than 400"
      ],
      "metadata": {
        "id": "8uydZ6c304Eu"
      }
    },
    {
      "cell_type": "code",
      "metadata": {
        "id": "4qadz7Hn88tA"
      },
      "source": [
        "scatter_ind_bug(df_selected,\"wmc\")"
      ],
      "execution_count": null,
      "outputs": []
    },
    {
      "cell_type": "markdown",
      "source": [
        "The highest concentration of values is near the x axis with a x value lower than 40"
      ],
      "metadata": {
        "id": "grUvsAAn0-I7"
      }
    },
    {
      "cell_type": "markdown",
      "metadata": {
        "id": "QUbYFl13usyo"
      },
      "source": [
        "## Descriptive statistics"
      ]
    },
    {
      "cell_type": "code",
      "source": [
        "df_bug=create_df_bug(df_selected)\n",
        "df_no_bug=create_df_no_bug(df_selected)"
      ],
      "metadata": {
        "id": "5RCIyG7qBhxP"
      },
      "execution_count": null,
      "outputs": []
    },
    {
      "cell_type": "code",
      "metadata": {
        "id": "ym_0CZ2quutl"
      },
      "source": [
        "print(\"Description of df_selected\")\n",
        "df_dummy=df_selected[[\"rfc\",\"loc\",\"wmc\",\"bug\"]].copy()\n",
        "df_dummy.describe()#all elements"
      ],
      "execution_count": null,
      "outputs": []
    },
    {
      "cell_type": "code",
      "source": [
        "print(\"Description of df_bug\")\n",
        "df_bug.describe()#Only bugs"
      ],
      "metadata": {
        "id": "qkL7mnaMzcQ5"
      },
      "execution_count": null,
      "outputs": []
    },
    {
      "cell_type": "code",
      "source": [
        "print(\"Description of df_no_bug\")\n",
        "df_no_bug.describe()#Only no bugs"
      ],
      "metadata": {
        "id": "o-7KktCkBjvB"
      },
      "execution_count": null,
      "outputs": []
    },
    {
      "cell_type": "code",
      "source": [
        "count_bugged_and_not(df_selected)"
      ],
      "metadata": {
        "id": "sgNCACBG6274"
      },
      "execution_count": null,
      "outputs": []
    },
    {
      "cell_type": "code",
      "source": [
        "show_bug_numbers(df_selected)"
      ],
      "metadata": {
        "id": "eGFxz7zp8Cbb"
      },
      "execution_count": null,
      "outputs": []
    },
    {
      "cell_type": "code",
      "source": [
        "print(\"Textual description of df_selected \\n\")\n",
        "min_max_mean_dev(df_selected,\"rfc\")\n",
        "min_max_mean_dev(df_selected,\"loc\")\n",
        "min_max_mean_dev(df_selected,\"wmc\")"
      ],
      "metadata": {
        "id": "Xv4bBIMn-rJd"
      },
      "execution_count": null,
      "outputs": []
    },
    {
      "cell_type": "code",
      "source": [
        "print(\"Textual description of df_bug \\n\")\n",
        "min_max_mean_dev(df_bug,\"rfc\")\n",
        "min_max_mean_dev(df_bug,\"loc\")\n",
        "min_max_mean_dev(df_bug,\"wmc\")"
      ],
      "metadata": {
        "id": "ggBK11hY_1Hr"
      },
      "execution_count": null,
      "outputs": []
    },
    {
      "cell_type": "code",
      "source": [
        "print(\"Textual description of df_no_bug \\n\")\n",
        "min_max_mean_dev(df_no_bug,\"rfc\")\n",
        "min_max_mean_dev(df_no_bug,\"loc\")\n",
        "min_max_mean_dev(df_no_bug,\"wmc\")"
      ],
      "metadata": {
        "id": "_bXdi1iU_1FV"
      },
      "execution_count": null,
      "outputs": []
    },
    {
      "cell_type": "markdown",
      "metadata": {
        "id": "cJ-_SHlsuvU0"
      },
      "source": [
        "## **Data** analysis"
      ]
    },
    {
      "cell_type": "markdown",
      "source": [
        "###Linear Regression"
      ],
      "metadata": {
        "id": "gt-DV5Pn5G9V"
      }
    },
    {
      "cell_type": "code",
      "source": [
        "#Create dataframes with only the dependent feature and the independent one\n",
        "df_rfc=create_df_ind_dep(df_selected,\"rfc\")\n",
        "df_structure(df_rfc)\n",
        "df_rfc.head(3)"
      ],
      "metadata": {
        "id": "ebhzQwNle5za"
      },
      "execution_count": null,
      "outputs": []
    },
    {
      "cell_type": "code",
      "source": [
        "df_loc=create_df_ind_dep(df_selected,\"loc\")\n",
        "df_structure(df_loc)\n",
        "df_loc.head(3)"
      ],
      "metadata": {
        "id": "sGsI6SzHfkBa"
      },
      "execution_count": null,
      "outputs": []
    },
    {
      "cell_type": "code",
      "source": [
        "df_wmc=create_df_ind_dep(df_selected,\"wmc\")\n",
        "df_structure(df_wmc)\n",
        "df_wmc.head(3)"
      ],
      "metadata": {
        "id": "GgnBOuTlfj7k"
      },
      "execution_count": null,
      "outputs": []
    },
    {
      "cell_type": "code",
      "source": [
        "find_top5_random_states(df_selected,\"rfc\")############################################"
      ],
      "metadata": {
        "id": "0VF66AFytvpo"
      },
      "execution_count": null,
      "outputs": []
    },
    {
      "cell_type": "code",
      "source": [
        "find_top5_random_states(df_selected,\"loc\")############################################"
      ],
      "metadata": {
        "id": "pT7nQePAtvnD"
      },
      "execution_count": null,
      "outputs": []
    },
    {
      "cell_type": "code",
      "source": [
        "find_top5_random_states(df_selected,\"wmc\")############################################"
      ],
      "metadata": {
        "id": "KVrmcRdftvkZ"
      },
      "execution_count": null,
      "outputs": []
    },
    {
      "cell_type": "code",
      "metadata": {
        "id": "nc0e7esGz5Hx"
      },
      "source": [
        "linear_regression(df_rfc,\"rfc\",46705)#46705"
      ],
      "execution_count": null,
      "outputs": []
    },
    {
      "cell_type": "markdown",
      "source": [
        "The prediction of the bug values with rfc as independet feature is accurate at 63%."
      ],
      "metadata": {
        "id": "Gs2IhdOoEOW0"
      }
    },
    {
      "cell_type": "code",
      "source": [
        "rfc_corr=correlation(df_rfc,\"rfc\")\n",
        "correlation_plot(rfc_corr,\"Correlation of bug and rfc\")"
      ],
      "metadata": {
        "id": "D2rMNoEdcarp"
      },
      "execution_count": null,
      "outputs": []
    },
    {
      "cell_type": "markdown",
      "source": [
        "The correlation of bug and rfc obtained via Pearson's R is the highest with 0.65, followed by Spearman's RHO with 0.49 and Kendall's TAU with 0.4."
      ],
      "metadata": {
        "id": "Prz5fzu8FGXL"
      }
    },
    {
      "cell_type": "code",
      "metadata": {
        "id": "ynRCowuxP08k"
      },
      "source": [
        "linear_regression(df_loc,\"loc\",17280)#17280"
      ],
      "execution_count": null,
      "outputs": []
    },
    {
      "cell_type": "markdown",
      "source": [
        "The prediction of the bug values with loc as independet feature is accurate at 66%."
      ],
      "metadata": {
        "id": "c-0PLBWjE0bb"
      }
    },
    {
      "cell_type": "code",
      "source": [
        "loc_corr=correlation(df_loc,\"loc\")\n",
        "correlation_plot(loc_corr,\"Correlation of bug and loc\")"
      ],
      "metadata": {
        "id": "5cdt1rnCdSwO"
      },
      "execution_count": null,
      "outputs": []
    },
    {
      "cell_type": "markdown",
      "source": [
        "The correlation of bug and loc obtained via Pearson's R is the highest with 0.64, followed by Spearman's RHO with 0.49 and Kendall's TAU with 0.39."
      ],
      "metadata": {
        "id": "UZhiSXkNFkqn"
      }
    },
    {
      "cell_type": "code",
      "metadata": {
        "id": "gEbz-UsVP0zr"
      },
      "source": [
        "linear_regression(df_wmc,\"wmc\",54184)#54184"
      ],
      "execution_count": null,
      "outputs": []
    },
    {
      "cell_type": "markdown",
      "source": [
        "The prediction of the bug values wmc rfc as independet feature is accurate at 57%."
      ],
      "metadata": {
        "id": "k-_2EYX-E-cf"
      }
    },
    {
      "cell_type": "code",
      "source": [
        "wmc_corr=correlation(df_wmc,\"wmc\")\n",
        "correlation_plot(wmc_corr,\"Correlation of bug and wmc\")"
      ],
      "metadata": {
        "id": "xKWYoX9-dV1S"
      },
      "execution_count": null,
      "outputs": []
    },
    {
      "cell_type": "markdown",
      "source": [
        "The correlation of bug and wmc obtained via Pearson's R is the highest with 0.56, followed by Spearman's RHO with 0.43 and Kendall's TAU with 0.35.\n"
      ],
      "metadata": {
        "id": "XQN07yKFFy_H"
      }
    },
    {
      "cell_type": "markdown",
      "source": [
        "#### Outlier removal for Linear Regression"
      ],
      "metadata": {
        "id": "YNVAx6bja2XV"
      }
    },
    {
      "cell_type": "code",
      "source": [
        "#Remove outliers\n",
        "df_rfc_filtered=outlier_remover(df_rfc, \"rfc\")\n",
        "df_structure(df_rfc_filtered)\n",
        "df_rfc_filtered.head(3)"
      ],
      "metadata": {
        "id": "8BoPCiEYn4xD"
      },
      "execution_count": null,
      "outputs": []
    },
    {
      "cell_type": "code",
      "source": [
        "df_loc_filtered=outlier_remover(df_loc, \"loc\")\n",
        "df_structure(df_loc_filtered)\n",
        "df_loc_filtered.head(3)"
      ],
      "metadata": {
        "id": "CpEfZ10Nf04s"
      },
      "execution_count": null,
      "outputs": []
    },
    {
      "cell_type": "code",
      "source": [
        "df_wmc_filtered=outlier_remover(df_wmc, \"wmc\")\n",
        "df_structure(df_loc_filtered)\n",
        "df_loc_filtered.head(3)"
      ],
      "metadata": {
        "id": "G6EhTV4df016"
      },
      "execution_count": null,
      "outputs": []
    },
    {
      "cell_type": "markdown",
      "source": [
        "RFC before and after"
      ],
      "metadata": {
        "id": "GUbQsnoDXwKq"
      }
    },
    {
      "cell_type": "code",
      "source": [
        "print(\"rfc and bug before outlier removal\")\n",
        "pairplot(df_rfc)"
      ],
      "metadata": {
        "id": "nKdRuGO-Z51W"
      },
      "execution_count": null,
      "outputs": []
    },
    {
      "cell_type": "code",
      "source": [
        "print(\"rfc and bug after outlier removal\")\n",
        "pairplot(df_rfc_filtered)"
      ],
      "metadata": {
        "id": "4sEKW6enXIdF"
      },
      "execution_count": null,
      "outputs": []
    },
    {
      "cell_type": "code",
      "source": [
        "double_boxplot(df_rfc,df_rfc_filtered,\"rfc\")"
      ],
      "metadata": {
        "id": "R0B73oYyn1mb"
      },
      "execution_count": null,
      "outputs": []
    },
    {
      "cell_type": "markdown",
      "source": [
        "With the graph is possible to see that only the values over 157 were removed.\n"
      ],
      "metadata": {
        "id": "Y_AwuiRbF6cW"
      }
    },
    {
      "cell_type": "markdown",
      "source": [
        "LOC before and after"
      ],
      "metadata": {
        "id": "GCMV0zaYXtjS"
      }
    },
    {
      "cell_type": "code",
      "source": [
        "print(\"loc and bug before outlier removal\")\n",
        "pairplot(df_loc)"
      ],
      "metadata": {
        "id": "bKxkgbroXP1Y"
      },
      "execution_count": null,
      "outputs": []
    },
    {
      "cell_type": "code",
      "source": [
        "print(\"loc and bug after outlier removal\")\n",
        "pairplot(df_loc_filtered)"
      ],
      "metadata": {
        "id": "brGTi0QCXPyf"
      },
      "execution_count": null,
      "outputs": []
    },
    {
      "cell_type": "code",
      "source": [
        "double_boxplot(df_loc,df_loc_filtered,\"loc\")"
      ],
      "metadata": {
        "id": "7shj6_3Nn8-4"
      },
      "execution_count": null,
      "outputs": []
    },
    {
      "cell_type": "markdown",
      "source": [
        "With the graph is possible to see that only the values over 2098 were removed.\n"
      ],
      "metadata": {
        "id": "CsV-Tn7GGTS2"
      }
    },
    {
      "cell_type": "markdown",
      "source": [
        "WMC before and after"
      ],
      "metadata": {
        "id": "j5DIJPCdXpgT"
      }
    },
    {
      "cell_type": "code",
      "source": [
        "print(\"wmc and bug before outlier removal\")\n",
        "pairplot(df_wmc)"
      ],
      "metadata": {
        "id": "B6r7j-O4XPlV"
      },
      "execution_count": null,
      "outputs": []
    },
    {
      "cell_type": "code",
      "source": [
        "print(\"wmc and bug after outlier removal\")\n",
        "pairplot(df_wmc_filtered)"
      ],
      "metadata": {
        "id": "l9fudv55XPib"
      },
      "execution_count": null,
      "outputs": []
    },
    {
      "cell_type": "code",
      "source": [
        "double_boxplot(df_wmc,df_wmc_filtered,\"wmc\")"
      ],
      "metadata": {
        "id": "aOSKVVK8XPWc"
      },
      "execution_count": null,
      "outputs": []
    },
    {
      "cell_type": "markdown",
      "source": [
        "With the graph is possible to see that only the values over 58 were removed.\n"
      ],
      "metadata": {
        "id": "6cAb2TMSGi_v"
      }
    },
    {
      "cell_type": "markdown",
      "source": [
        "####Linear regression without outliers"
      ],
      "metadata": {
        "id": "vyJ-F8TMxPA8"
      }
    },
    {
      "cell_type": "code",
      "source": [
        "find_top5_random_states(df_rfc_filtered,\"rfc\")############################################"
      ],
      "metadata": {
        "id": "kPvRfdgNZ5wH"
      },
      "execution_count": null,
      "outputs": []
    },
    {
      "cell_type": "code",
      "source": [
        "find_top5_random_states(df_loc_filtered,\"loc\")############################################"
      ],
      "metadata": {
        "id": "Lj3RefreZ5tv"
      },
      "execution_count": null,
      "outputs": []
    },
    {
      "cell_type": "code",
      "source": [
        "find_top5_random_states(df_wmc_filtered,\"wmc\")############################################"
      ],
      "metadata": {
        "id": "6-Jsrw2QZ5rY"
      },
      "execution_count": null,
      "outputs": []
    },
    {
      "cell_type": "code",
      "source": [
        "linear_regression(df_rfc_filtered,\"rfc\",56096)#56096"
      ],
      "metadata": {
        "id": "h06teAxhZ5mV"
      },
      "execution_count": null,
      "outputs": []
    },
    {
      "cell_type": "markdown",
      "source": [
        "The prediction of the bug values with rfc as independent feature is accurate at 51% after removing the outlier values.\n",
        "The R2 error is decreased."
      ],
      "metadata": {
        "id": "sBY8V545G1Fi"
      }
    },
    {
      "cell_type": "code",
      "source": [
        "rfc_corr_filtered=correlation_filtered(df_rfc_filtered,\"rfc\")\n",
        "correlation_plot(rfc_corr_filtered,\"Correlation of bug and rfc after outlier removal\")"
      ],
      "metadata": {
        "id": "yqS3d_3idZLq"
      },
      "execution_count": null,
      "outputs": []
    },
    {
      "cell_type": "markdown",
      "source": [
        "The correlation of bug and rfc obtained, after the removal of the outliers, via Pearson's R is the highest with 0.55, followed by Spearman's RHO with 0.46 and Kendall's TAU with 0.38.\n"
      ],
      "metadata": {
        "id": "dT3xHhcGIISc"
      }
    },
    {
      "cell_type": "code",
      "source": [
        "linear_regression(df_loc_filtered,\"loc\",18443)#18443"
      ],
      "metadata": {
        "id": "CbmGtzUmZ5kF"
      },
      "execution_count": null,
      "outputs": []
    },
    {
      "cell_type": "markdown",
      "source": [
        "The prediction of the bug values with loc as independent feature is accurate at 53% after removing the outlier values.\n",
        "The R2 error is decreased."
      ],
      "metadata": {
        "id": "IA_FGhrjHf82"
      }
    },
    {
      "cell_type": "code",
      "source": [
        "loc_corr_filtered=correlation_filtered(df_loc_filtered,\"loc\")\n",
        "correlation_plot(loc_corr_filtered,\"Correlation of bug and loc after outlier removal\")"
      ],
      "metadata": {
        "id": "d8fwaHdPeVgQ"
      },
      "execution_count": null,
      "outputs": []
    },
    {
      "cell_type": "markdown",
      "source": [
        "The correlation of bug and loc obtained, after the removal of the outliers, via Pearson's R is the highest with 0.55, followed by Spearman's RHO with 0.46 and Kendall's TAU with 0.37.\n"
      ],
      "metadata": {
        "id": "-IfTKTi_IAP8"
      }
    },
    {
      "cell_type": "code",
      "source": [
        "linear_regression(df_wmc_filtered,\"wmc\",55037)#55037"
      ],
      "metadata": {
        "id": "9eIJJZrjZ5hr"
      },
      "execution_count": null,
      "outputs": []
    },
    {
      "cell_type": "markdown",
      "source": [
        "The prediction of the bug values with wmc as independent feature is accurate at 42% after removing the outlier values.\n",
        "The R2 error is decreased."
      ],
      "metadata": {
        "id": "Ovu_sj63HsvK"
      }
    },
    {
      "cell_type": "code",
      "source": [
        "wmc_corr_filtered=correlation_filtered(df_wmc_filtered,\"wmc\")\n",
        "correlation_plot(wmc_corr_filtered,\"Correlation of bug and wmc after outlier removal\")"
      ],
      "metadata": {
        "id": "t3uvuXumecQv"
      },
      "execution_count": null,
      "outputs": []
    },
    {
      "cell_type": "markdown",
      "source": [
        "The correlation of bug and wmc obtained, after the removal of the outliers, via Pearson's R is the highest with 0.47, followed by Spearman's RHO with 0.41 and Kendall's TAU with 0.33.\n"
      ],
      "metadata": {
        "id": "aaZnT5kfH4xD"
      }
    },
    {
      "cell_type": "markdown",
      "source": [
        "####Comparison between regressions with and without outliers"
      ],
      "metadata": {
        "id": "IUlRIkyJ9WMz"
      }
    },
    {
      "cell_type": "code",
      "source": [
        "plot_reg_overlap(df_rfc,df_rfc_filtered,\"rfc\",46705,56096)#46705 RFC 56096"
      ],
      "metadata": {
        "id": "li8Phvwd_mmj"
      },
      "execution_count": null,
      "outputs": []
    },
    {
      "cell_type": "markdown",
      "source": [
        "Without outliers the regression line is less angled than the one with outliers. In this case high values of rfc can produce higher quantity of bugs."
      ],
      "metadata": {
        "id": "T80NPEyKP4Xx"
      }
    },
    {
      "cell_type": "code",
      "source": [
        "plot_reg_overlap(df_loc,df_loc_filtered,\"loc\",17280,18443)#17280 LOC 18443\n"
      ],
      "metadata": {
        "id": "cXlTD2K8HCGp"
      },
      "execution_count": null,
      "outputs": []
    },
    {
      "cell_type": "markdown",
      "source": [
        "The two regression lines are almost identical so removing the outliers didn't change much the predictions."
      ],
      "metadata": {
        "id": "kc2Jl9noQJVI"
      }
    },
    {
      "cell_type": "code",
      "source": [
        "plot_reg_overlap(df_wmc,df_wmc_filtered,\"wmc\",54184,55037)#54184 WMC 55037"
      ],
      "metadata": {
        "id": "NmFjbNI1HB_m"
      },
      "execution_count": null,
      "outputs": []
    },
    {
      "cell_type": "markdown",
      "source": [
        "The two regression lines are almost identical so removing the outliers didn't change much the predictions."
      ],
      "metadata": {
        "id": "0-99Ybx9QUHx"
      }
    },
    {
      "cell_type": "markdown",
      "source": [
        "####Comparison of correlation degree before and after outlier removal "
      ],
      "metadata": {
        "id": "U2Eu26YDczJu"
      }
    },
    {
      "cell_type": "code",
      "source": [
        "correlation_plot(merge_lists(rfc_corr,rfc_corr_filtered),\"Comparison between correlations before and after outlier removal of bug and rfc\")"
      ],
      "metadata": {
        "id": "LF_ErDhjiFR4"
      },
      "execution_count": null,
      "outputs": []
    },
    {
      "cell_type": "markdown",
      "source": [
        "Removing the outliers caused the decrease of the correlation values in all three the methods used. The most significant decrease is with the Pearson's method, from 0.65 to 0.55. With Spearman's and Kendal's the decrease is very low (-0.2)."
      ],
      "metadata": {
        "id": "rXtgFD4QQX9e"
      }
    },
    {
      "cell_type": "code",
      "source": [
        "correlation_plot(merge_lists(loc_corr,loc_corr_filtered),\"Comparison between correlations before and after outlier removal of bug and rfc\")"
      ],
      "metadata": {
        "id": "Vhzi374niFPJ"
      },
      "execution_count": null,
      "outputs": []
    },
    {
      "cell_type": "markdown",
      "source": [
        "Removing the outliers caused the decrease of the correlation values in all three the methods used. The most significant decrease is with the Pearson's method, from 0.64 to 0.55. With Spearman's and Kendal's the decrease is very low (-0.3)."
      ],
      "metadata": {
        "id": "VpoJirELQ6Hl"
      }
    },
    {
      "cell_type": "code",
      "source": [
        "correlation_plot(merge_lists(wmc_corr,wmc_corr_filtered),\"Comparison between correlations before and after outlier removal of bug and rfc\")"
      ],
      "metadata": {
        "id": "9bKMevPXc7_O"
      },
      "execution_count": null,
      "outputs": []
    },
    {
      "cell_type": "markdown",
      "source": [
        "Removing the outliers caused the decrease of the correlation values in all three the methods used. The most significant decrease is with the Pearson's method, from 0.56 to 0.47. With Spearman's and Kendal's the decrease is very low (-0.2)."
      ],
      "metadata": {
        "id": "H6f1_GJqREtP"
      }
    },
    {
      "cell_type": "markdown",
      "source": [
        "After seeing the results of the correlation computated before and after the outlier removal, it is clear that removing the outliers lowered the correlation degree in all three cases considerated."
      ],
      "metadata": {
        "id": "IiomnC8gRK6-"
      }
    },
    {
      "cell_type": "markdown",
      "source": [
        "###Logistic Regression"
      ],
      "metadata": {
        "id": "05ZITTVb7PqS"
      }
    },
    {
      "cell_type": "markdown",
      "source": [
        "Elements are divided into two classes, class 0 and class 1. Elements in class 0 contain 0 bugs and elements in class 1 contain at least 1 bug."
      ],
      "metadata": {
        "id": "l0iDLUbRRg4C"
      }
    },
    {
      "cell_type": "code",
      "source": [
        "find_top5_random_states_LR(df_selected)#############################"
      ],
      "metadata": {
        "id": "G7O_xL3-0nKh"
      },
      "execution_count": null,
      "outputs": []
    },
    {
      "cell_type": "code",
      "source": [
        "full_logistic_regression(df_selected,3856)#3856 90.625% acc"
      ],
      "metadata": {
        "id": "2rZZhnxc0nHp"
      },
      "execution_count": null,
      "outputs": []
    },
    {
      "cell_type": "markdown",
      "source": [
        "The overall accuracy of the logistic regression model is 90.62%, almost overfitting. This is caused by the large amount of elements belonging to class 0 (77%). Misclassification mainly occurs with elements of class 1, in this case almost 50% of elements belonging to class 1 are misclassificated. Even if the elements of class 0 are the majority of the elements, some are misclassificated into class 1."
      ],
      "metadata": {
        "id": "jIkoVhW5RdFp"
      }
    }
  ]
}